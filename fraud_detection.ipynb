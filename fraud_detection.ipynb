{
 "cells": [
  {
   "cell_type": "markdown",
   "metadata": {},
   "source": [
    "## Credit Card Fraud Detection\n",
    "\n",
    "Author: Naphat Piphattanakarn\n",
    "\n",
    "### Objectives\n",
    "In this notebook, I will built and evaluate the performance of various classifiers to detect fraudulent credit card transactions with the objective to built models that can be practical in the realworld usecases."
   ]
  },
  {
   "cell_type": "markdown",
   "metadata": {},
   "source": [
    "### Dataset Information\n",
    "The dataset used here is from https://www.kaggle.com/datasets/mlg-ulb/creditcardfraud which contains 284807 transactions made by credit cards in September 2013 by European cardholders.\n",
    "\n",
    "There are 30 features as follows:\n",
    " - V1 - V28: these are the result of a PCA transformation due to confidentiality issues\n",
    " - Time: the seconds elapsed between each transaction and the first transaction in the dataset\n",
    " - Amount: transaction amount\n",
    " - class: the label which takes value 1 in case of fraud and 0 otherwise"
   ]
  },
  {
   "cell_type": "markdown",
   "metadata": {},
   "source": [
    "### Data Preparation\n",
    "\n",
    "Let's import all the required packages and the dataset itself"
   ]
  },
  {
   "cell_type": "code",
   "execution_count": 1,
   "metadata": {},
   "outputs": [],
   "source": [
    "import pandas as pd\n",
    "import numpy as np\n",
    "import matplotlib.pyplot as plt\n",
    "import seaborn as sns\n",
    "from IPython.display import display, HTML\n",
    "\n",
    "from sklearn.model_selection import train_test_split, GridSearchCV, StratifiedKFold, cross_val_score\n",
    "from sklearn.preprocessing import StandardScaler\n",
    "from sklearn.pipeline import Pipeline\n",
    "from sklearn.compose import ColumnTransformer\n",
    "from sklearn.linear_model import LogisticRegression\n",
    "from sklearn.svm import SVC\n",
    "from sklearn.metrics import ConfusionMatrixDisplay, classification_report, precision_recall_curve\n",
    "from sklearn.ensemble import RandomForestClassifier\n",
    "\n",
    "import lightgbm as lgb\n",
    "\n",
    "import tensorflow as tf\n",
    "from tensorflow.keras.wrappers.scikit_learn import KerasClassifier\n",
    "\n",
    "import pickle\n",
    "\n",
    "from skopt import BayesSearchCV\n",
    "from skopt.space.space import Real, Integer, Categorical\n",
    "\n",
    "import imblearn\n",
    "\n",
    "import matplotlib.pyplot as plt\n",
    "import seaborn as sns\n"
   ]
  },
  {
   "cell_type": "code",
   "execution_count": 3,
   "metadata": {},
   "outputs": [
    {
     "name": "stdout",
     "output_type": "stream",
     "text": [
      "<class 'pandas.core.frame.DataFrame'>\n",
      "RangeIndex: 284807 entries, 0 to 284806\n",
      "Data columns (total 31 columns):\n",
      " #   Column  Non-Null Count   Dtype  \n",
      "---  ------  --------------   -----  \n",
      " 0   Time    284807 non-null  float64\n",
      " 1   V1      284807 non-null  float64\n",
      " 2   V2      284807 non-null  float64\n",
      " 3   V3      284807 non-null  float64\n",
      " 4   V4      284807 non-null  float64\n",
      " 5   V5      284807 non-null  float64\n",
      " 6   V6      284807 non-null  float64\n",
      " 7   V7      284807 non-null  float64\n",
      " 8   V8      284807 non-null  float64\n",
      " 9   V9      284807 non-null  float64\n",
      " 10  V10     284807 non-null  float64\n",
      " 11  V11     284807 non-null  float64\n",
      " 12  V12     284807 non-null  float64\n",
      " 13  V13     284807 non-null  float64\n",
      " 14  V14     284807 non-null  float64\n",
      " 15  V15     284807 non-null  float64\n",
      " 16  V16     284807 non-null  float64\n",
      " 17  V17     284807 non-null  float64\n",
      " 18  V18     284807 non-null  float64\n",
      " 19  V19     284807 non-null  float64\n",
      " 20  V20     284807 non-null  float64\n",
      " 21  V21     284807 non-null  float64\n",
      " 22  V22     284807 non-null  float64\n",
      " 23  V23     284807 non-null  float64\n",
      " 24  V24     284807 non-null  float64\n",
      " 25  V25     284807 non-null  float64\n",
      " 26  V26     284807 non-null  float64\n",
      " 27  V27     284807 non-null  float64\n",
      " 28  V28     284807 non-null  float64\n",
      " 29  Amount  284807 non-null  float64\n",
      " 30  Class   284807 non-null  int64  \n",
      "dtypes: float64(30), int64(1)\n",
      "memory usage: 67.4 MB\n"
     ]
    }
   ],
   "source": [
    "df = pd.read_csv('fraud_data.csv')\n",
    "df.head()\n",
    "df.info()"
   ]
  },
  {
   "cell_type": "code",
   "execution_count": 5,
   "metadata": {},
   "outputs": [
    {
     "data": {
      "text/html": [
       "<div>\n",
       "<style scoped>\n",
       "    .dataframe tbody tr th:only-of-type {\n",
       "        vertical-align: middle;\n",
       "    }\n",
       "\n",
       "    .dataframe tbody tr th {\n",
       "        vertical-align: top;\n",
       "    }\n",
       "\n",
       "    .dataframe thead th {\n",
       "        text-align: right;\n",
       "    }\n",
       "</style>\n",
       "<table border=\"1\" class=\"dataframe\">\n",
       "  <thead>\n",
       "    <tr style=\"text-align: right;\">\n",
       "      <th></th>\n",
       "      <th>time</th>\n",
       "      <th>v1</th>\n",
       "      <th>v2</th>\n",
       "      <th>v3</th>\n",
       "      <th>v4</th>\n",
       "      <th>v5</th>\n",
       "      <th>v6</th>\n",
       "      <th>v7</th>\n",
       "      <th>v8</th>\n",
       "      <th>v9</th>\n",
       "      <th>...</th>\n",
       "      <th>v21</th>\n",
       "      <th>v22</th>\n",
       "      <th>v23</th>\n",
       "      <th>v24</th>\n",
       "      <th>v25</th>\n",
       "      <th>v26</th>\n",
       "      <th>v27</th>\n",
       "      <th>v28</th>\n",
       "      <th>amount</th>\n",
       "      <th>class</th>\n",
       "    </tr>\n",
       "  </thead>\n",
       "  <tbody>\n",
       "    <tr>\n",
       "      <th>count</th>\n",
       "      <td>284807.000000</td>\n",
       "      <td>2.848070e+05</td>\n",
       "      <td>2.848070e+05</td>\n",
       "      <td>2.848070e+05</td>\n",
       "      <td>2.848070e+05</td>\n",
       "      <td>2.848070e+05</td>\n",
       "      <td>2.848070e+05</td>\n",
       "      <td>2.848070e+05</td>\n",
       "      <td>2.848070e+05</td>\n",
       "      <td>2.848070e+05</td>\n",
       "      <td>...</td>\n",
       "      <td>2.848070e+05</td>\n",
       "      <td>2.848070e+05</td>\n",
       "      <td>2.848070e+05</td>\n",
       "      <td>2.848070e+05</td>\n",
       "      <td>2.848070e+05</td>\n",
       "      <td>2.848070e+05</td>\n",
       "      <td>2.848070e+05</td>\n",
       "      <td>2.848070e+05</td>\n",
       "      <td>284807.000000</td>\n",
       "      <td>284807.000000</td>\n",
       "    </tr>\n",
       "    <tr>\n",
       "      <th>mean</th>\n",
       "      <td>94813.859575</td>\n",
       "      <td>1.168375e-15</td>\n",
       "      <td>3.416908e-16</td>\n",
       "      <td>-1.379537e-15</td>\n",
       "      <td>2.074095e-15</td>\n",
       "      <td>9.604066e-16</td>\n",
       "      <td>1.487313e-15</td>\n",
       "      <td>-5.556467e-16</td>\n",
       "      <td>1.213481e-16</td>\n",
       "      <td>-2.406331e-15</td>\n",
       "      <td>...</td>\n",
       "      <td>1.654067e-16</td>\n",
       "      <td>-3.568593e-16</td>\n",
       "      <td>2.578648e-16</td>\n",
       "      <td>4.473266e-15</td>\n",
       "      <td>5.340915e-16</td>\n",
       "      <td>1.683437e-15</td>\n",
       "      <td>-3.660091e-16</td>\n",
       "      <td>-1.227390e-16</td>\n",
       "      <td>88.349619</td>\n",
       "      <td>0.001727</td>\n",
       "    </tr>\n",
       "    <tr>\n",
       "      <th>std</th>\n",
       "      <td>47488.145955</td>\n",
       "      <td>1.958696e+00</td>\n",
       "      <td>1.651309e+00</td>\n",
       "      <td>1.516255e+00</td>\n",
       "      <td>1.415869e+00</td>\n",
       "      <td>1.380247e+00</td>\n",
       "      <td>1.332271e+00</td>\n",
       "      <td>1.237094e+00</td>\n",
       "      <td>1.194353e+00</td>\n",
       "      <td>1.098632e+00</td>\n",
       "      <td>...</td>\n",
       "      <td>7.345240e-01</td>\n",
       "      <td>7.257016e-01</td>\n",
       "      <td>6.244603e-01</td>\n",
       "      <td>6.056471e-01</td>\n",
       "      <td>5.212781e-01</td>\n",
       "      <td>4.822270e-01</td>\n",
       "      <td>4.036325e-01</td>\n",
       "      <td>3.300833e-01</td>\n",
       "      <td>250.120109</td>\n",
       "      <td>0.041527</td>\n",
       "    </tr>\n",
       "    <tr>\n",
       "      <th>min</th>\n",
       "      <td>0.000000</td>\n",
       "      <td>-5.640751e+01</td>\n",
       "      <td>-7.271573e+01</td>\n",
       "      <td>-4.832559e+01</td>\n",
       "      <td>-5.683171e+00</td>\n",
       "      <td>-1.137433e+02</td>\n",
       "      <td>-2.616051e+01</td>\n",
       "      <td>-4.355724e+01</td>\n",
       "      <td>-7.321672e+01</td>\n",
       "      <td>-1.343407e+01</td>\n",
       "      <td>...</td>\n",
       "      <td>-3.483038e+01</td>\n",
       "      <td>-1.093314e+01</td>\n",
       "      <td>-4.480774e+01</td>\n",
       "      <td>-2.836627e+00</td>\n",
       "      <td>-1.029540e+01</td>\n",
       "      <td>-2.604551e+00</td>\n",
       "      <td>-2.256568e+01</td>\n",
       "      <td>-1.543008e+01</td>\n",
       "      <td>0.000000</td>\n",
       "      <td>0.000000</td>\n",
       "    </tr>\n",
       "    <tr>\n",
       "      <th>25%</th>\n",
       "      <td>54201.500000</td>\n",
       "      <td>-9.203734e-01</td>\n",
       "      <td>-5.985499e-01</td>\n",
       "      <td>-8.903648e-01</td>\n",
       "      <td>-8.486401e-01</td>\n",
       "      <td>-6.915971e-01</td>\n",
       "      <td>-7.682956e-01</td>\n",
       "      <td>-5.540759e-01</td>\n",
       "      <td>-2.086297e-01</td>\n",
       "      <td>-6.430976e-01</td>\n",
       "      <td>...</td>\n",
       "      <td>-2.283949e-01</td>\n",
       "      <td>-5.423504e-01</td>\n",
       "      <td>-1.618463e-01</td>\n",
       "      <td>-3.545861e-01</td>\n",
       "      <td>-3.171451e-01</td>\n",
       "      <td>-3.269839e-01</td>\n",
       "      <td>-7.083953e-02</td>\n",
       "      <td>-5.295979e-02</td>\n",
       "      <td>5.600000</td>\n",
       "      <td>0.000000</td>\n",
       "    </tr>\n",
       "    <tr>\n",
       "      <th>50%</th>\n",
       "      <td>84692.000000</td>\n",
       "      <td>1.810880e-02</td>\n",
       "      <td>6.548556e-02</td>\n",
       "      <td>1.798463e-01</td>\n",
       "      <td>-1.984653e-02</td>\n",
       "      <td>-5.433583e-02</td>\n",
       "      <td>-2.741871e-01</td>\n",
       "      <td>4.010308e-02</td>\n",
       "      <td>2.235804e-02</td>\n",
       "      <td>-5.142873e-02</td>\n",
       "      <td>...</td>\n",
       "      <td>-2.945017e-02</td>\n",
       "      <td>6.781943e-03</td>\n",
       "      <td>-1.119293e-02</td>\n",
       "      <td>4.097606e-02</td>\n",
       "      <td>1.659350e-02</td>\n",
       "      <td>-5.213911e-02</td>\n",
       "      <td>1.342146e-03</td>\n",
       "      <td>1.124383e-02</td>\n",
       "      <td>22.000000</td>\n",
       "      <td>0.000000</td>\n",
       "    </tr>\n",
       "    <tr>\n",
       "      <th>75%</th>\n",
       "      <td>139320.500000</td>\n",
       "      <td>1.315642e+00</td>\n",
       "      <td>8.037239e-01</td>\n",
       "      <td>1.027196e+00</td>\n",
       "      <td>7.433413e-01</td>\n",
       "      <td>6.119264e-01</td>\n",
       "      <td>3.985649e-01</td>\n",
       "      <td>5.704361e-01</td>\n",
       "      <td>3.273459e-01</td>\n",
       "      <td>5.971390e-01</td>\n",
       "      <td>...</td>\n",
       "      <td>1.863772e-01</td>\n",
       "      <td>5.285536e-01</td>\n",
       "      <td>1.476421e-01</td>\n",
       "      <td>4.395266e-01</td>\n",
       "      <td>3.507156e-01</td>\n",
       "      <td>2.409522e-01</td>\n",
       "      <td>9.104512e-02</td>\n",
       "      <td>7.827995e-02</td>\n",
       "      <td>77.165000</td>\n",
       "      <td>0.000000</td>\n",
       "    </tr>\n",
       "    <tr>\n",
       "      <th>max</th>\n",
       "      <td>172792.000000</td>\n",
       "      <td>2.454930e+00</td>\n",
       "      <td>2.205773e+01</td>\n",
       "      <td>9.382558e+00</td>\n",
       "      <td>1.687534e+01</td>\n",
       "      <td>3.480167e+01</td>\n",
       "      <td>7.330163e+01</td>\n",
       "      <td>1.205895e+02</td>\n",
       "      <td>2.000721e+01</td>\n",
       "      <td>1.559499e+01</td>\n",
       "      <td>...</td>\n",
       "      <td>2.720284e+01</td>\n",
       "      <td>1.050309e+01</td>\n",
       "      <td>2.252841e+01</td>\n",
       "      <td>4.584549e+00</td>\n",
       "      <td>7.519589e+00</td>\n",
       "      <td>3.517346e+00</td>\n",
       "      <td>3.161220e+01</td>\n",
       "      <td>3.384781e+01</td>\n",
       "      <td>25691.160000</td>\n",
       "      <td>1.000000</td>\n",
       "    </tr>\n",
       "  </tbody>\n",
       "</table>\n",
       "<p>8 rows × 31 columns</p>\n",
       "</div>"
      ],
      "text/plain": [
       "                time            v1            v2            v3            v4  \\\n",
       "count  284807.000000  2.848070e+05  2.848070e+05  2.848070e+05  2.848070e+05   \n",
       "mean    94813.859575  1.168375e-15  3.416908e-16 -1.379537e-15  2.074095e-15   \n",
       "std     47488.145955  1.958696e+00  1.651309e+00  1.516255e+00  1.415869e+00   \n",
       "min         0.000000 -5.640751e+01 -7.271573e+01 -4.832559e+01 -5.683171e+00   \n",
       "25%     54201.500000 -9.203734e-01 -5.985499e-01 -8.903648e-01 -8.486401e-01   \n",
       "50%     84692.000000  1.810880e-02  6.548556e-02  1.798463e-01 -1.984653e-02   \n",
       "75%    139320.500000  1.315642e+00  8.037239e-01  1.027196e+00  7.433413e-01   \n",
       "max    172792.000000  2.454930e+00  2.205773e+01  9.382558e+00  1.687534e+01   \n",
       "\n",
       "                 v5            v6            v7            v8            v9  \\\n",
       "count  2.848070e+05  2.848070e+05  2.848070e+05  2.848070e+05  2.848070e+05   \n",
       "mean   9.604066e-16  1.487313e-15 -5.556467e-16  1.213481e-16 -2.406331e-15   \n",
       "std    1.380247e+00  1.332271e+00  1.237094e+00  1.194353e+00  1.098632e+00   \n",
       "min   -1.137433e+02 -2.616051e+01 -4.355724e+01 -7.321672e+01 -1.343407e+01   \n",
       "25%   -6.915971e-01 -7.682956e-01 -5.540759e-01 -2.086297e-01 -6.430976e-01   \n",
       "50%   -5.433583e-02 -2.741871e-01  4.010308e-02  2.235804e-02 -5.142873e-02   \n",
       "75%    6.119264e-01  3.985649e-01  5.704361e-01  3.273459e-01  5.971390e-01   \n",
       "max    3.480167e+01  7.330163e+01  1.205895e+02  2.000721e+01  1.559499e+01   \n",
       "\n",
       "       ...           v21           v22           v23           v24  \\\n",
       "count  ...  2.848070e+05  2.848070e+05  2.848070e+05  2.848070e+05   \n",
       "mean   ...  1.654067e-16 -3.568593e-16  2.578648e-16  4.473266e-15   \n",
       "std    ...  7.345240e-01  7.257016e-01  6.244603e-01  6.056471e-01   \n",
       "min    ... -3.483038e+01 -1.093314e+01 -4.480774e+01 -2.836627e+00   \n",
       "25%    ... -2.283949e-01 -5.423504e-01 -1.618463e-01 -3.545861e-01   \n",
       "50%    ... -2.945017e-02  6.781943e-03 -1.119293e-02  4.097606e-02   \n",
       "75%    ...  1.863772e-01  5.285536e-01  1.476421e-01  4.395266e-01   \n",
       "max    ...  2.720284e+01  1.050309e+01  2.252841e+01  4.584549e+00   \n",
       "\n",
       "                v25           v26           v27           v28         amount  \\\n",
       "count  2.848070e+05  2.848070e+05  2.848070e+05  2.848070e+05  284807.000000   \n",
       "mean   5.340915e-16  1.683437e-15 -3.660091e-16 -1.227390e-16      88.349619   \n",
       "std    5.212781e-01  4.822270e-01  4.036325e-01  3.300833e-01     250.120109   \n",
       "min   -1.029540e+01 -2.604551e+00 -2.256568e+01 -1.543008e+01       0.000000   \n",
       "25%   -3.171451e-01 -3.269839e-01 -7.083953e-02 -5.295979e-02       5.600000   \n",
       "50%    1.659350e-02 -5.213911e-02  1.342146e-03  1.124383e-02      22.000000   \n",
       "75%    3.507156e-01  2.409522e-01  9.104512e-02  7.827995e-02      77.165000   \n",
       "max    7.519589e+00  3.517346e+00  3.161220e+01  3.384781e+01   25691.160000   \n",
       "\n",
       "               class  \n",
       "count  284807.000000  \n",
       "mean        0.001727  \n",
       "std         0.041527  \n",
       "min         0.000000  \n",
       "25%         0.000000  \n",
       "50%         0.000000  \n",
       "75%         0.000000  \n",
       "max         1.000000  \n",
       "\n",
       "[8 rows x 31 columns]"
      ]
     },
     "execution_count": 5,
     "metadata": {},
     "output_type": "execute_result"
    }
   ],
   "source": [
    "# change all column names to lower case\n",
    "df.columns = [col.lower() for col in df.columns]\n",
    "df.describe()"
   ]
  },
  {
   "cell_type": "markdown",
   "metadata": {},
   "source": [
    "Notice that v1 to v28 features are the result of PCA with mean zero and decreasing standard deviation."
   ]
  },
  {
   "cell_type": "markdown",
   "metadata": {},
   "source": [
    "### Exploratory Data Analysis"
   ]
  },
  {
   "cell_type": "markdown",
   "metadata": {},
   "source": [
    "Next let's check how much imbalanced the data set is."
   ]
  },
  {
   "cell_type": "code",
   "execution_count": 6,
   "metadata": {},
   "outputs": [
    {
     "name": "stdout",
     "output_type": "stream",
     "text": [
      "0    284315\n",
      "1       492\n",
      "Name: class, dtype: int64\n",
      "Fraud cases are only 0.17% of the entire dataset\n"
     ]
    }
   ],
   "source": [
    "case_count = df['class'].value_counts()\n",
    "print(case_count)\n",
    "print(f'Fraud cases are only {case_count[1]*100/df.shape[0]:.2f}% of the entire dataset')"
   ]
  },
  {
   "cell_type": "markdown",
   "metadata": {},
   "source": [
    "This shows that the data is heavily imbalanced.\n",
    "\n",
    "Next let's look at the distribution of the amount feature between normal trasactions and fraudulent transactions."
   ]
  },
  {
   "cell_type": "code",
   "execution_count": 13,
   "metadata": {},
   "outputs": [
    {
     "data": {
      "image/png": "[encoded data removed]",
      "text/plain": [
       "<Figure size 432x288 with 1 Axes>"
      ]
     },
     "metadata": {
      "needs_background": "light"
     },
     "output_type": "display_data"
    }
   ],
   "source": [
    "df.loc[df['class'] == 0, ['amount']].plot.hist(title='$ Amounts of normal transactions')\n",
    "plt.show()"
   ]
  },
  {
   "cell_type": "code",
   "execution_count": 19,
   "metadata": {},
   "outputs": [
    {
     "data": {
      "image/png": "[encoded data removed]",
      "text/plain": [
       "<Figure size 432x288 with 1 Axes>"
      ]
     },
     "metadata": {
      "needs_background": "light"
     },
     "output_type": "display_data"
    }
   ],
   "source": [
    "df.loc[df['class'] == 1, ['amount']].plot.hist(title='$ Amounts of fraudulent transactions', color='red')\n",
    "plt.show()"
   ]
  },
  {
   "cell_type": "markdown",
   "metadata": {},
   "source": [
    "We notice that there are a lot of outliers, extremely high amounts, in the normal transaction distribution. To better compare the distributions let's filter out the outliers and plot the amounts in the same range."
   ]
  },
  {
   "cell_type": "code",
   "execution_count": 20,
   "metadata": {},
   "outputs": [
    {
     "data": {
      "image/png": "[encoded data removed]",
      "text/plain": [
       "<Figure size 432x288 with 1 Axes>"
      ]
     },
     "metadata": {
      "needs_background": "light"
     },
     "output_type": "display_data"
    }
   ],
   "source": [
    "df.loc[(df['class'] == 0) & (df['amount'] < 2500), ['amount']].plot.hist(title='$ Amounts of normal transactions')\n",
    "plt.show()"
   ]
  },
  {
   "cell_type": "markdown",
   "metadata": {},
   "source": [
    "We can see that the distribution of amounts of the fraudulent transactions are similar to that of normal transactions in the same range. Next let's look at the correlation between features."
   ]
  },
  {
   "cell_type": "code",
   "execution_count": 17,
   "metadata": {},
   "outputs": [
    {
     "data": {
      "text/plain": [
       "<AxesSubplot: >"
      ]
     },
     "execution_count": 17,
     "metadata": {},
     "output_type": "execute_result"
    },
    {
     "data": {
      "image/png": "[encoded data removed]",
      "text/plain": [
       "<Figure size 432x288 with 2 Axes>"
      ]
     },
     "metadata": {
      "needs_background": "light"
     },
     "output_type": "display_data"
    }
   ],
   "source": [
    "sns.heatmap(df.corr())"
   ]
  },
  {
   "cell_type": "markdown",
   "metadata": {},
   "source": [
    "There is no obvious correlation (linear relationship) between any features in the data set, especially between the labels and other features."
   ]
  },
  {
   "cell_type": "markdown",
   "metadata": {},
   "source": [
    "### Model Training and Evaluation\n",
    "\n",
    "For this fraud detection task, I will implement various classification models including logistic regression, support vector machine,   \n",
    "Although the data is extremely imbalanced, I will start with using it to train the models as is. In the later section I will utilize techniques such as threshold-moving, cost-sensitive learning, and resampling to see how much performance increase they could give."
   ]
  },
  {
   "cell_type": "code",
   "execution_count": 4,
   "metadata": {},
   "outputs": [],
   "source": [
    "# Prepare train and test datasets\n",
    "X = df.drop(columns=['time', 'class'])\n",
    "y = df['class']\n",
    "X_train, X_test, y_train, y_test = train_test_split(X, y, test_size=0.20, random_state=42, stratify=y)"
   ]
  },
  {
   "cell_type": "markdown",
   "metadata": {},
   "source": [
    "First let's define a helper function for training a model. This function will also perform hyperparameter tuning using bayesian optimization as well. Here I will use f1 as a scoring metric for cross validation."
   ]
  },
  {
   "cell_type": "code",
   "execution_count": 100,
   "metadata": {},
   "outputs": [],
   "source": [
    "def train_model(model, model_name, param_grid, cv_scoring='f1', show_cv_result=True,\n",
    "                X_train=X_train, y_train=y_train, cv_type=GridSearchCV, fit_params=None, \n",
    "                return_fitted=True):\n",
    "    \"\"\"Train the model and perform hyperparameter tuning for a specific estimator\n",
    "    \n",
    "    Args:\n",
    "        model: sklearn's estimator instance\n",
    "        model_name: string for estimator name\n",
    "        param_grid: dictionary containing hyperparameter space for tuning\n",
    "        cv_scoring (optional): metric to compare during cv; default to f1\n",
    "        show_cv_result (optional): show cv result of each hyperparameter combination; default to True\n",
    "\n",
    "    Return:\n",
    "        model trained with best parameters \n",
    "\n",
    "    \"\"\"\n",
    "\n",
    "    preprocessor = ColumnTransformer(\n",
    "        transformers=[('scaler', StandardScaler(), ['amount'])],\n",
    "        remainder='passthrough'\n",
    "    )\n",
    "\n",
    "    pipeline = Pipeline([\n",
    "        ('preprocessor', preprocessor),\n",
    "        (model_name, model)\n",
    "    ])\n",
    "\n",
    "    search = cv_type(pipeline, \n",
    "                     param_grid,\n",
    "                     n_jobs=-1,\n",
    "                     scoring=cv_scoring,\n",
    "                     fit_params=fit_params,\n",
    "                     verbose=0)\n",
    "\n",
    "    search.fit(X_train, y_train)\n",
    "\n",
    "    print(f'Best {cv_scoring}: {search.best_score_} with params {search.best_params_}')\n",
    "\n",
    "    if show_cv_result:\n",
    "        cv_df = pd.concat([\n",
    "            pd.DataFrame({f'mean_{cv_scoring}': search.cv_results_['mean_test_score'],\n",
    "                        'stdev': search.cv_results_['std_test_score']}),\n",
    "            pd.DataFrame(search.cv_results_['params'])\n",
    "        ], axis=1)\n",
    "        print(f'Top 5 average {cv_scoring} score:')\n",
    "        display(HTML(cv_df.sort_values(f'mean_{cv_scoring}', ascending=False).head().to_html()))\n",
    "\n",
    "    # Train model with all training data using best params\n",
    "\n",
    "    if return_fitted:\n",
    "        best_model = search.best_estimator_.fit(X_train, y_train)\n",
    "    else:\n",
    "        best_model = search.best_estimator_\n",
    "\n",
    "    return best_model\n"
   ]
  },
  {
   "cell_type": "markdown",
   "metadata": {},
   "source": [
    "Next let's define a function for model evaluation. As I'm using f1 as a scoring metric, I will optimize threshold (threshold moving) to get the best f1 from the model here. As this is a very imbalanced dataset, I will use confusion matrix and precision-recall curve to evaluate the performance as well."
   ]
  },
  {
   "cell_type": "code",
   "execution_count": 5,
   "metadata": {},
   "outputs": [],
   "source": [
    "def evaluate_model(model):\n",
    "    \"\"\"Evaluate the performance of the model with test set using ROC curve, Prec-Recall curve\n",
    "    and classification report by setting threshold to optimize f1 in this case\n",
    "    \n",
    "    \"\"\"\n",
    "\n",
    "    if hasattr(model, 'predict_proba'):\n",
    "        y_proba = model.predict_proba(X_test)[:, 1]\n",
    "    else:\n",
    "        y_proba = model.predict(X_test)\n",
    "    \n",
    "    precision, recall, thresholds = precision_recall_curve(y_test, y_proba)\n",
    "    f1_scores = 2 * recall * precision / (recall + precision)\n",
    "    opt_idx =  np.argmax(f1_scores)\n",
    "    best_thresh = thresholds[opt_idx]\n",
    "    print(f'Best threshold to maximize f1 is {best_thresh: .4f}')\n",
    "\n",
    "    y_pred = (y_proba > best_thresh).astype(int)\n",
    "    print(classification_report(y_test, y_pred))\n",
    "\n",
    "    ConfusionMatrixDisplay.from_predictions(y_test, y_pred)\n",
    "    _, ax = plt.subplots()\n",
    "    ax.plot(recall[:-1], precision[:-1])\n",
    "    circle = plt.Circle((recall[opt_idx], precision[opt_idx]), 0.05, color='red', fill=False)\n",
    "    ax.add_artist(circle)\n",
    "    plt.title('Precision-Recall')\n",
    "    plt.xlabel('Recall')\n",
    "    plt.ylabel('Precision')\n",
    "    plt.show()\n"
   ]
  },
  {
   "cell_type": "markdown",
   "metadata": {},
   "source": [
    "### Logistic Regression\n",
    "For classification task, logistic regression is a linear model that is simple, easy to train and make inference, so let's first try this model."
   ]
  },
  {
   "cell_type": "code",
   "execution_count": 35,
   "metadata": {},
   "outputs": [
    {
     "name": "stdout",
     "output_type": "stream",
     "text": [
      "Best f1: 0.7338382198851061 with params OrderedDict([('logistic_regression__C', 0.042563031992546754), ('logistic_regression__penalty', 'l2'), ('logistic_regression__solver', 'newton-cg')])\n"
     ]
    },
    {
     "data": {
      "text/html": [
       "<table border=\"1\" class=\"dataframe\">\n",
       "  <thead>\n",
       "    <tr style=\"text-align: right;\">\n",
       "      <th></th>\n",
       "      <th>mean_f1</th>\n",
       "      <th>stdev</th>\n",
       "      <th>logistic_regression__C</th>\n",
       "      <th>logistic_regression__penalty</th>\n",
       "      <th>logistic_regression__solver</th>\n",
       "    </tr>\n",
       "  </thead>\n",
       "  <tbody>\n",
       "    <tr>\n",
       "      <th>0</th>\n",
       "      <td>0.730329</td>\n",
       "      <td>0.022236</td>\n",
       "      <td>9.703052</td>\n",
       "      <td>l2</td>\n",
       "      <td>liblinear</td>\n",
       "    </tr>\n",
       "    <tr>\n",
       "      <th>1</th>\n",
       "      <td>0.730329</td>\n",
       "      <td>0.022236</td>\n",
       "      <td>3.431623</td>\n",
       "      <td>l2</td>\n",
       "      <td>liblinear</td>\n",
       "    </tr>\n",
       "    <tr>\n",
       "      <th>2</th>\n",
       "      <td>0.725509</td>\n",
       "      <td>0.030285</td>\n",
       "      <td>0.060790</td>\n",
       "      <td>l2</td>\n",
       "      <td>liblinear</td>\n",
       "    </tr>\n",
       "    <tr>\n",
       "      <th>3</th>\n",
       "      <td>0.730329</td>\n",
       "      <td>0.022236</td>\n",
       "      <td>4.672832</td>\n",
       "      <td>l2</td>\n",
       "      <td>liblinear</td>\n",
       "    </tr>\n",
       "    <tr>\n",
       "      <th>4</th>\n",
       "      <td>0.732164</td>\n",
       "      <td>0.024924</td>\n",
       "      <td>92.885852</td>\n",
       "      <td>l2</td>\n",
       "      <td>lbfgs</td>\n",
       "    </tr>\n",
       "    <tr>\n",
       "      <th>5</th>\n",
       "      <td>0.732164</td>\n",
       "      <td>0.024924</td>\n",
       "      <td>28.387873</td>\n",
       "      <td>l2</td>\n",
       "      <td>liblinear</td>\n",
       "    </tr>\n",
       "    <tr>\n",
       "      <th>6</th>\n",
       "      <td>0.732164</td>\n",
       "      <td>0.024924</td>\n",
       "      <td>28.264544</td>\n",
       "      <td>l2</td>\n",
       "      <td>newton-cg</td>\n",
       "    </tr>\n",
       "    <tr>\n",
       "      <th>7</th>\n",
       "      <td>0.730329</td>\n",
       "      <td>0.022236</td>\n",
       "      <td>0.926647</td>\n",
       "      <td>l2</td>\n",
       "      <td>newton-cg</td>\n",
       "    </tr>\n",
       "    <tr>\n",
       "      <th>8</th>\n",
       "      <td>0.731614</td>\n",
       "      <td>0.025727</td>\n",
       "      <td>0.643691</td>\n",
       "      <td>l2</td>\n",
       "      <td>liblinear</td>\n",
       "    </tr>\n",
       "    <tr>\n",
       "      <th>9</th>\n",
       "      <td>0.729649</td>\n",
       "      <td>0.024324</td>\n",
       "      <td>1.344067</td>\n",
       "      <td>l2</td>\n",
       "      <td>liblinear</td>\n",
       "    </tr>\n",
       "    <tr>\n",
       "      <th>10</th>\n",
       "      <td>0.717022</td>\n",
       "      <td>0.018780</td>\n",
       "      <td>0.010008</td>\n",
       "      <td>l2</td>\n",
       "      <td>lbfgs</td>\n",
       "    </tr>\n",
       "    <tr>\n",
       "      <th>11</th>\n",
       "      <td>0.730394</td>\n",
       "      <td>0.019896</td>\n",
       "      <td>0.199040</td>\n",
       "      <td>l2</td>\n",
       "      <td>newton-cg</td>\n",
       "    </tr>\n",
       "    <tr>\n",
       "      <th>12</th>\n",
       "      <td>0.732164</td>\n",
       "      <td>0.024924</td>\n",
       "      <td>53.887480</td>\n",
       "      <td>l2</td>\n",
       "      <td>newton-cg</td>\n",
       "    </tr>\n",
       "    <tr>\n",
       "      <th>13</th>\n",
       "      <td>0.728200</td>\n",
       "      <td>0.029598</td>\n",
       "      <td>0.024947</td>\n",
       "      <td>l2</td>\n",
       "      <td>newton-cg</td>\n",
       "    </tr>\n",
       "    <tr>\n",
       "      <th>14</th>\n",
       "      <td>0.732445</td>\n",
       "      <td>0.019965</td>\n",
       "      <td>0.345731</td>\n",
       "      <td>l2</td>\n",
       "      <td>lbfgs</td>\n",
       "    </tr>\n",
       "    <tr>\n",
       "      <th>15</th>\n",
       "      <td>0.732164</td>\n",
       "      <td>0.024924</td>\n",
       "      <td>16.872396</td>\n",
       "      <td>l2</td>\n",
       "      <td>lbfgs</td>\n",
       "    </tr>\n",
       "    <tr>\n",
       "      <th>16</th>\n",
       "      <td>0.729432</td>\n",
       "      <td>0.025588</td>\n",
       "      <td>0.112726</td>\n",
       "      <td>l2</td>\n",
       "      <td>lbfgs</td>\n",
       "    </tr>\n",
       "    <tr>\n",
       "      <th>17</th>\n",
       "      <td>0.730329</td>\n",
       "      <td>0.022236</td>\n",
       "      <td>2.160326</td>\n",
       "      <td>l2</td>\n",
       "      <td>newton-cg</td>\n",
       "    </tr>\n",
       "    <tr>\n",
       "      <th>18</th>\n",
       "      <td>0.731080</td>\n",
       "      <td>0.026877</td>\n",
       "      <td>0.037008</td>\n",
       "      <td>l2</td>\n",
       "      <td>lbfgs</td>\n",
       "    </tr>\n",
       "    <tr>\n",
       "      <th>19</th>\n",
       "      <td>0.732164</td>\n",
       "      <td>0.024924</td>\n",
       "      <td>6.840605</td>\n",
       "      <td>l2</td>\n",
       "      <td>lbfgs</td>\n",
       "    </tr>\n",
       "    <tr>\n",
       "      <th>20</th>\n",
       "      <td>0.731393</td>\n",
       "      <td>0.020687</td>\n",
       "      <td>0.453925</td>\n",
       "      <td>l2</td>\n",
       "      <td>newton-cg</td>\n",
       "    </tr>\n",
       "    <tr>\n",
       "      <th>21</th>\n",
       "      <td>0.732164</td>\n",
       "      <td>0.024924</td>\n",
       "      <td>39.759650</td>\n",
       "      <td>l2</td>\n",
       "      <td>newton-cg</td>\n",
       "    </tr>\n",
       "    <tr>\n",
       "      <th>22</th>\n",
       "      <td>0.723719</td>\n",
       "      <td>0.026487</td>\n",
       "      <td>0.016373</td>\n",
       "      <td>l2</td>\n",
       "      <td>liblinear</td>\n",
       "    </tr>\n",
       "    <tr>\n",
       "      <th>23</th>\n",
       "      <td>0.732164</td>\n",
       "      <td>0.024924</td>\n",
       "      <td>72.328205</td>\n",
       "      <td>l2</td>\n",
       "      <td>newton-cg</td>\n",
       "    </tr>\n",
       "    <tr>\n",
       "      <th>24</th>\n",
       "      <td>0.729432</td>\n",
       "      <td>0.025588</td>\n",
       "      <td>0.149473</td>\n",
       "      <td>l2</td>\n",
       "      <td>newton-cg</td>\n",
       "    </tr>\n",
       "    <tr>\n",
       "      <th>25</th>\n",
       "      <td>0.732164</td>\n",
       "      <td>0.024924</td>\n",
       "      <td>21.281148</td>\n",
       "      <td>l2</td>\n",
       "      <td>lbfgs</td>\n",
       "    </tr>\n",
       "    <tr>\n",
       "      <th>26</th>\n",
       "      <td>0.732164</td>\n",
       "      <td>0.024924</td>\n",
       "      <td>100.000000</td>\n",
       "      <td>l2</td>\n",
       "      <td>newton-cg</td>\n",
       "    </tr>\n",
       "    <tr>\n",
       "      <th>27</th>\n",
       "      <td>0.730448</td>\n",
       "      <td>0.023129</td>\n",
       "      <td>0.265716</td>\n",
       "      <td>l2</td>\n",
       "      <td>newton-cg</td>\n",
       "    </tr>\n",
       "    <tr>\n",
       "      <th>28</th>\n",
       "      <td>0.732164</td>\n",
       "      <td>0.024924</td>\n",
       "      <td>51.128067</td>\n",
       "      <td>l2</td>\n",
       "      <td>lbfgs</td>\n",
       "    </tr>\n",
       "    <tr>\n",
       "      <th>29</th>\n",
       "      <td>0.730329</td>\n",
       "      <td>0.022236</td>\n",
       "      <td>2.226846</td>\n",
       "      <td>l2</td>\n",
       "      <td>lbfgs</td>\n",
       "    </tr>\n",
       "    <tr>\n",
       "      <th>30</th>\n",
       "      <td>0.732164</td>\n",
       "      <td>0.024924</td>\n",
       "      <td>12.854826</td>\n",
       "      <td>l2</td>\n",
       "      <td>newton-cg</td>\n",
       "    </tr>\n",
       "    <tr>\n",
       "      <th>31</th>\n",
       "      <td>0.730545</td>\n",
       "      <td>0.023574</td>\n",
       "      <td>0.083845</td>\n",
       "      <td>l2</td>\n",
       "      <td>newton-cg</td>\n",
       "    </tr>\n",
       "    <tr>\n",
       "      <th>32</th>\n",
       "      <td>0.732711</td>\n",
       "      <td>0.023291</td>\n",
       "      <td>0.045700</td>\n",
       "      <td>l2</td>\n",
       "      <td>newton-cg</td>\n",
       "    </tr>\n",
       "    <tr>\n",
       "      <th>33</th>\n",
       "      <td>0.730329</td>\n",
       "      <td>0.022236</td>\n",
       "      <td>1.663385</td>\n",
       "      <td>l2</td>\n",
       "      <td>lbfgs</td>\n",
       "    </tr>\n",
       "    <tr>\n",
       "      <th>34</th>\n",
       "      <td>0.732164</td>\n",
       "      <td>0.024924</td>\n",
       "      <td>5.711304</td>\n",
       "      <td>l2</td>\n",
       "      <td>lbfgs</td>\n",
       "    </tr>\n",
       "    <tr>\n",
       "      <th>35</th>\n",
       "      <td>0.730329</td>\n",
       "      <td>0.022236</td>\n",
       "      <td>0.766770</td>\n",
       "      <td>l2</td>\n",
       "      <td>lbfgs</td>\n",
       "    </tr>\n",
       "    <tr>\n",
       "      <th>36</th>\n",
       "      <td>0.730329</td>\n",
       "      <td>0.022236</td>\n",
       "      <td>2.842509</td>\n",
       "      <td>l2</td>\n",
       "      <td>newton-cg</td>\n",
       "    </tr>\n",
       "    <tr>\n",
       "      <th>37</th>\n",
       "      <td>0.733838</td>\n",
       "      <td>0.024476</td>\n",
       "      <td>0.042563</td>\n",
       "      <td>l2</td>\n",
       "      <td>newton-cg</td>\n",
       "    </tr>\n",
       "    <tr>\n",
       "      <th>38</th>\n",
       "      <td>0.732164</td>\n",
       "      <td>0.024924</td>\n",
       "      <td>100.000000</td>\n",
       "      <td>l2</td>\n",
       "      <td>liblinear</td>\n",
       "    </tr>\n",
       "    <tr>\n",
       "      <th>39</th>\n",
       "      <td>0.728200</td>\n",
       "      <td>0.029598</td>\n",
       "      <td>0.020425</td>\n",
       "      <td>l2</td>\n",
       "      <td>lbfgs</td>\n",
       "    </tr>\n",
       "    <tr>\n",
       "      <th>40</th>\n",
       "      <td>0.730329</td>\n",
       "      <td>0.022236</td>\n",
       "      <td>0.537314</td>\n",
       "      <td>l2</td>\n",
       "      <td>lbfgs</td>\n",
       "    </tr>\n",
       "    <tr>\n",
       "      <th>41</th>\n",
       "      <td>0.730329</td>\n",
       "      <td>0.022236</td>\n",
       "      <td>1.117172</td>\n",
       "      <td>l2</td>\n",
       "      <td>lbfgs</td>\n",
       "    </tr>\n",
       "    <tr>\n",
       "      <th>42</th>\n",
       "      <td>0.732164</td>\n",
       "      <td>0.024924</td>\n",
       "      <td>8.131166</td>\n",
       "      <td>l2</td>\n",
       "      <td>newton-cg</td>\n",
       "    </tr>\n",
       "    <tr>\n",
       "      <th>43</th>\n",
       "      <td>0.731975</td>\n",
       "      <td>0.022606</td>\n",
       "      <td>0.041943</td>\n",
       "      <td>l2</td>\n",
       "      <td>lbfgs</td>\n",
       "    </tr>\n",
       "    <tr>\n",
       "      <th>44</th>\n",
       "      <td>0.732164</td>\n",
       "      <td>0.024924</td>\n",
       "      <td>18.587011</td>\n",
       "      <td>l2</td>\n",
       "      <td>newton-cg</td>\n",
       "    </tr>\n",
       "    <tr>\n",
       "      <th>45</th>\n",
       "      <td>0.732164</td>\n",
       "      <td>0.024924</td>\n",
       "      <td>63.102207</td>\n",
       "      <td>l2</td>\n",
       "      <td>lbfgs</td>\n",
       "    </tr>\n",
       "    <tr>\n",
       "      <th>46</th>\n",
       "      <td>0.731522</td>\n",
       "      <td>0.021393</td>\n",
       "      <td>0.230311</td>\n",
       "      <td>l2</td>\n",
       "      <td>lbfgs</td>\n",
       "    </tr>\n",
       "    <tr>\n",
       "      <th>47</th>\n",
       "      <td>0.732164</td>\n",
       "      <td>0.024924</td>\n",
       "      <td>6.174071</td>\n",
       "      <td>l2</td>\n",
       "      <td>newton-cg</td>\n",
       "    </tr>\n",
       "    <tr>\n",
       "      <th>48</th>\n",
       "      <td>0.732164</td>\n",
       "      <td>0.024924</td>\n",
       "      <td>34.529183</td>\n",
       "      <td>l2</td>\n",
       "      <td>lbfgs</td>\n",
       "    </tr>\n",
       "    <tr>\n",
       "      <th>49</th>\n",
       "      <td>0.731773</td>\n",
       "      <td>0.027635</td>\n",
       "      <td>0.257515</td>\n",
       "      <td>l2</td>\n",
       "      <td>liblinear</td>\n",
       "    </tr>\n",
       "  </tbody>\n",
       "</table>"
      ],
      "text/plain": [
       "<IPython.core.display.HTML object>"
      ]
     },
     "metadata": {},
     "output_type": "display_data"
    }
   ],
   "source": [
    "# Parameter space to perform hyperparameter tuning\n",
    "param_grid = {\n",
    "    'logistic_regression__class_weight': Categorical(['auto', 'balanced']),\n",
    "    'logistic_regression__C': Real(0.01, 100, prior='log-uniform'),\n",
    "    'logistic_regression__penalty': Categorical(['l2']),\n",
    "    'logistic_regression__solver': Categorical(['newton-cg', 'lbfgs', 'liblinear'])\n",
    "}\n",
    "\n",
    "lr_clf = train_model(model=LogisticRegression(),\n",
    "                     model_name='logistic_regression',\n",
    "                     param_grid=param_grid,\n",
    "                     cv_type=BayesSearchCV)"
   ]
  },
  {
   "cell_type": "markdown",
   "metadata": {},
   "source": [
    "Here the best cross-validated average f1 is 0.73 after hyperparameter tuning. Note that this might not be the optimal f1. \n",
    "\n",
    "Next let's test it with the test set and adjust the threshold to optimize f1."
   ]
  },
  {
   "cell_type": "code",
   "execution_count": 36,
   "metadata": {},
   "outputs": [
    {
     "name": "stdout",
     "output_type": "stream",
     "text": [
      "Best threshold to maximize f1 is  0.0860\n",
      "              precision    recall  f1-score   support\n",
      "\n",
      "           0       1.00      1.00      1.00     56864\n",
      "           1       0.70      0.82      0.75        98\n",
      "\n",
      "    accuracy                           1.00     56962\n",
      "   macro avg       0.85      0.91      0.88     56962\n",
      "weighted avg       1.00      1.00      1.00     56962\n",
      "\n"
     ]
    },
    {
     "data": {
      "image/png": "[encoded data removed]",
      "text/plain": [
       "<Figure size 432x288 with 2 Axes>"
      ]
     },
     "metadata": {
      "needs_background": "light"
     },
     "output_type": "display_data"
    },
    {
     "data": {
      "image/png": "[encoded data removed]",
      "text/plain": [
       "<Figure size 432x288 with 1 Axes>"
      ]
     },
     "metadata": {
      "needs_background": "light"
     },
     "output_type": "display_data"
    }
   ],
   "source": [
    "evaluate_model(lr_clf)"
   ]
  },
  {
   "cell_type": "markdown",
   "metadata": {},
   "source": [
    "The optimal f1 with the test set is 0.75 with precision 0.70 and recall 0.82."
   ]
  },
  {
   "cell_type": "code",
   "execution_count": 61,
   "metadata": {},
   "outputs": [],
   "source": [
    "# Save model\n",
    "f_name = 'models\\logistic_regression.pkl'\n",
    "pickle.dump(lr_clf, open(f_name, 'wb'))"
   ]
  },
  {
   "cell_type": "markdown",
   "metadata": {},
   "source": [
    "### Support Vector Machine"
   ]
  },
  {
   "cell_type": "markdown",
   "metadata": {},
   "source": [
    "Next let's try using support vector machine. I will go through the same process as above."
   ]
  },
  {
   "cell_type": "code",
   "execution_count": 38,
   "metadata": {},
   "outputs": [
    {
     "name": "stdout",
     "output_type": "stream",
     "text": [
      "Best f1: 0.8522566798935609 with params OrderedDict([('support_vector_machine__C', 43.31135366722287), ('support_vector_machine__gamma', 0.009613507659233704), ('support_vector_machine__kernel', 'rbf')])\n"
     ]
    },
    {
     "data": {
      "text/html": [
       "<table border=\"1\" class=\"dataframe\">\n",
       "  <thead>\n",
       "    <tr style=\"text-align: right;\">\n",
       "      <th></th>\n",
       "      <th>mean_f1</th>\n",
       "      <th>stdev</th>\n",
       "      <th>support_vector_machine__C</th>\n",
       "      <th>support_vector_machine__gamma</th>\n",
       "      <th>support_vector_machine__kernel</th>\n",
       "    </tr>\n",
       "  </thead>\n",
       "  <tbody>\n",
       "    <tr>\n",
       "      <th>0</th>\n",
       "      <td>0.844994</td>\n",
       "      <td>0.045286</td>\n",
       "      <td>47.431037</td>\n",
       "      <td>0.014007</td>\n",
       "      <td>rbf</td>\n",
       "    </tr>\n",
       "    <tr>\n",
       "      <th>1</th>\n",
       "      <td>0.313934</td>\n",
       "      <td>0.020141</td>\n",
       "      <td>0.113463</td>\n",
       "      <td>0.048679</td>\n",
       "      <td>sigmoid</td>\n",
       "    </tr>\n",
       "    <tr>\n",
       "      <th>2</th>\n",
       "      <td>0.747440</td>\n",
       "      <td>0.034706</td>\n",
       "      <td>0.190653</td>\n",
       "      <td>0.011738</td>\n",
       "      <td>rbf</td>\n",
       "    </tr>\n",
       "    <tr>\n",
       "      <th>3</th>\n",
       "      <td>0.337988</td>\n",
       "      <td>0.040448</td>\n",
       "      <td>27.231548</td>\n",
       "      <td>0.174809</td>\n",
       "      <td>rbf</td>\n",
       "    </tr>\n",
       "    <tr>\n",
       "      <th>4</th>\n",
       "      <td>0.835203</td>\n",
       "      <td>0.033783</td>\n",
       "      <td>23.260810</td>\n",
       "      <td>0.021581</td>\n",
       "      <td>rbf</td>\n",
       "    </tr>\n",
       "    <tr>\n",
       "      <th>5</th>\n",
       "      <td>0.781146</td>\n",
       "      <td>0.030998</td>\n",
       "      <td>29.868734</td>\n",
       "      <td>0.002781</td>\n",
       "      <td>poly</td>\n",
       "    </tr>\n",
       "    <tr>\n",
       "      <th>6</th>\n",
       "      <td>0.378440</td>\n",
       "      <td>0.039957</td>\n",
       "      <td>10.366821</td>\n",
       "      <td>0.018567</td>\n",
       "      <td>sigmoid</td>\n",
       "    </tr>\n",
       "    <tr>\n",
       "      <th>7</th>\n",
       "      <td>0.849332</td>\n",
       "      <td>0.041596</td>\n",
       "      <td>23.014068</td>\n",
       "      <td>0.008626</td>\n",
       "      <td>rbf</td>\n",
       "    </tr>\n",
       "    <tr>\n",
       "      <th>8</th>\n",
       "      <td>0.561738</td>\n",
       "      <td>0.048743</td>\n",
       "      <td>2.849128</td>\n",
       "      <td>0.374113</td>\n",
       "      <td>poly</td>\n",
       "    </tr>\n",
       "    <tr>\n",
       "      <th>9</th>\n",
       "      <td>0.655901</td>\n",
       "      <td>0.036705</td>\n",
       "      <td>7.536944</td>\n",
       "      <td>0.001072</td>\n",
       "      <td>poly</td>\n",
       "    </tr>\n",
       "    <tr>\n",
       "      <th>10</th>\n",
       "      <td>0.840937</td>\n",
       "      <td>0.042628</td>\n",
       "      <td>100.000000</td>\n",
       "      <td>0.011336</td>\n",
       "      <td>rbf</td>\n",
       "    </tr>\n",
       "    <tr>\n",
       "      <th>11</th>\n",
       "      <td>0.796527</td>\n",
       "      <td>0.041648</td>\n",
       "      <td>82.270831</td>\n",
       "      <td>0.016091</td>\n",
       "      <td>poly</td>\n",
       "    </tr>\n",
       "    <tr>\n",
       "      <th>12</th>\n",
       "      <td>0.849459</td>\n",
       "      <td>0.040711</td>\n",
       "      <td>35.896672</td>\n",
       "      <td>0.009065</td>\n",
       "      <td>rbf</td>\n",
       "    </tr>\n",
       "    <tr>\n",
       "      <th>13</th>\n",
       "      <td>0.841602</td>\n",
       "      <td>0.017676</td>\n",
       "      <td>100.000000</td>\n",
       "      <td>0.001000</td>\n",
       "      <td>rbf</td>\n",
       "    </tr>\n",
       "    <tr>\n",
       "      <th>14</th>\n",
       "      <td>0.850990</td>\n",
       "      <td>0.042056</td>\n",
       "      <td>36.783922</td>\n",
       "      <td>0.008195</td>\n",
       "      <td>rbf</td>\n",
       "    </tr>\n",
       "    <tr>\n",
       "      <th>15</th>\n",
       "      <td>0.844113</td>\n",
       "      <td>0.034291</td>\n",
       "      <td>58.917344</td>\n",
       "      <td>0.005270</td>\n",
       "      <td>rbf</td>\n",
       "    </tr>\n",
       "    <tr>\n",
       "      <th>16</th>\n",
       "      <td>0.849909</td>\n",
       "      <td>0.043711</td>\n",
       "      <td>42.219733</td>\n",
       "      <td>0.009044</td>\n",
       "      <td>rbf</td>\n",
       "    </tr>\n",
       "    <tr>\n",
       "      <th>17</th>\n",
       "      <td>0.848430</td>\n",
       "      <td>0.038545</td>\n",
       "      <td>33.186013</td>\n",
       "      <td>0.010005</td>\n",
       "      <td>rbf</td>\n",
       "    </tr>\n",
       "    <tr>\n",
       "      <th>18</th>\n",
       "      <td>0.849909</td>\n",
       "      <td>0.043711</td>\n",
       "      <td>42.043066</td>\n",
       "      <td>0.009096</td>\n",
       "      <td>rbf</td>\n",
       "    </tr>\n",
       "    <tr>\n",
       "      <th>19</th>\n",
       "      <td>0.847238</td>\n",
       "      <td>0.040818</td>\n",
       "      <td>34.133261</td>\n",
       "      <td>0.009868</td>\n",
       "      <td>rbf</td>\n",
       "    </tr>\n",
       "    <tr>\n",
       "      <th>20</th>\n",
       "      <td>0.849909</td>\n",
       "      <td>0.043711</td>\n",
       "      <td>37.078860</td>\n",
       "      <td>0.009280</td>\n",
       "      <td>rbf</td>\n",
       "    </tr>\n",
       "    <tr>\n",
       "      <th>21</th>\n",
       "      <td>0.656590</td>\n",
       "      <td>0.033366</td>\n",
       "      <td>100.000000</td>\n",
       "      <td>0.001000</td>\n",
       "      <td>sigmoid</td>\n",
       "    </tr>\n",
       "    <tr>\n",
       "      <th>22</th>\n",
       "      <td>0.851782</td>\n",
       "      <td>0.040005</td>\n",
       "      <td>43.332660</td>\n",
       "      <td>0.009032</td>\n",
       "      <td>rbf</td>\n",
       "    </tr>\n",
       "    <tr>\n",
       "      <th>23</th>\n",
       "      <td>0.849909</td>\n",
       "      <td>0.043711</td>\n",
       "      <td>41.208250</td>\n",
       "      <td>0.008850</td>\n",
       "      <td>rbf</td>\n",
       "    </tr>\n",
       "    <tr>\n",
       "      <th>24</th>\n",
       "      <td>0.851782</td>\n",
       "      <td>0.040005</td>\n",
       "      <td>45.422263</td>\n",
       "      <td>0.008961</td>\n",
       "      <td>rbf</td>\n",
       "    </tr>\n",
       "    <tr>\n",
       "      <th>25</th>\n",
       "      <td>0.849909</td>\n",
       "      <td>0.043711</td>\n",
       "      <td>44.492864</td>\n",
       "      <td>0.008678</td>\n",
       "      <td>rbf</td>\n",
       "    </tr>\n",
       "    <tr>\n",
       "      <th>26</th>\n",
       "      <td>0.851782</td>\n",
       "      <td>0.040005</td>\n",
       "      <td>45.207961</td>\n",
       "      <td>0.008952</td>\n",
       "      <td>rbf</td>\n",
       "    </tr>\n",
       "    <tr>\n",
       "      <th>27</th>\n",
       "      <td>0.850622</td>\n",
       "      <td>0.039692</td>\n",
       "      <td>47.879386</td>\n",
       "      <td>0.008868</td>\n",
       "      <td>rbf</td>\n",
       "    </tr>\n",
       "    <tr>\n",
       "      <th>28</th>\n",
       "      <td>0.849909</td>\n",
       "      <td>0.043711</td>\n",
       "      <td>43.177043</td>\n",
       "      <td>0.008787</td>\n",
       "      <td>rbf</td>\n",
       "    </tr>\n",
       "    <tr>\n",
       "      <th>29</th>\n",
       "      <td>0.849909</td>\n",
       "      <td>0.043711</td>\n",
       "      <td>41.929803</td>\n",
       "      <td>0.008882</td>\n",
       "      <td>rbf</td>\n",
       "    </tr>\n",
       "    <tr>\n",
       "      <th>30</th>\n",
       "      <td>0.851782</td>\n",
       "      <td>0.040005</td>\n",
       "      <td>45.938503</td>\n",
       "      <td>0.008900</td>\n",
       "      <td>rbf</td>\n",
       "    </tr>\n",
       "    <tr>\n",
       "      <th>31</th>\n",
       "      <td>0.849476</td>\n",
       "      <td>0.039514</td>\n",
       "      <td>48.308920</td>\n",
       "      <td>0.008826</td>\n",
       "      <td>rbf</td>\n",
       "    </tr>\n",
       "    <tr>\n",
       "      <th>32</th>\n",
       "      <td>0.849909</td>\n",
       "      <td>0.043711</td>\n",
       "      <td>40.820662</td>\n",
       "      <td>0.008963</td>\n",
       "      <td>rbf</td>\n",
       "    </tr>\n",
       "    <tr>\n",
       "      <th>33</th>\n",
       "      <td>0.750430</td>\n",
       "      <td>0.038927</td>\n",
       "      <td>0.100000</td>\n",
       "      <td>0.010678</td>\n",
       "      <td>poly</td>\n",
       "    </tr>\n",
       "    <tr>\n",
       "      <th>34</th>\n",
       "      <td>0.799212</td>\n",
       "      <td>0.023854</td>\n",
       "      <td>0.100000</td>\n",
       "      <td>0.001000</td>\n",
       "      <td>rbf</td>\n",
       "    </tr>\n",
       "    <tr>\n",
       "      <th>35</th>\n",
       "      <td>0.849909</td>\n",
       "      <td>0.043711</td>\n",
       "      <td>44.699232</td>\n",
       "      <td>0.008728</td>\n",
       "      <td>rbf</td>\n",
       "    </tr>\n",
       "    <tr>\n",
       "      <th>36</th>\n",
       "      <td>0.033470</td>\n",
       "      <td>0.020441</td>\n",
       "      <td>100.000000</td>\n",
       "      <td>1.000000</td>\n",
       "      <td>sigmoid</td>\n",
       "    </tr>\n",
       "    <tr>\n",
       "      <th>37</th>\n",
       "      <td>0.849909</td>\n",
       "      <td>0.043711</td>\n",
       "      <td>42.670566</td>\n",
       "      <td>0.008862</td>\n",
       "      <td>rbf</td>\n",
       "    </tr>\n",
       "    <tr>\n",
       "      <th>38</th>\n",
       "      <td>0.705771</td>\n",
       "      <td>0.046950</td>\n",
       "      <td>0.100000</td>\n",
       "      <td>0.001000</td>\n",
       "      <td>sigmoid</td>\n",
       "    </tr>\n",
       "    <tr>\n",
       "      <th>39</th>\n",
       "      <td>0.849909</td>\n",
       "      <td>0.043711</td>\n",
       "      <td>44.124011</td>\n",
       "      <td>0.008827</td>\n",
       "      <td>rbf</td>\n",
       "    </tr>\n",
       "    <tr>\n",
       "      <th>40</th>\n",
       "      <td>0.849909</td>\n",
       "      <td>0.043711</td>\n",
       "      <td>43.790782</td>\n",
       "      <td>0.008850</td>\n",
       "      <td>rbf</td>\n",
       "    </tr>\n",
       "    <tr>\n",
       "      <th>41</th>\n",
       "      <td>0.826833</td>\n",
       "      <td>0.024034</td>\n",
       "      <td>0.100000</td>\n",
       "      <td>0.053409</td>\n",
       "      <td>poly</td>\n",
       "    </tr>\n",
       "    <tr>\n",
       "      <th>42</th>\n",
       "      <td>0.852257</td>\n",
       "      <td>0.038244</td>\n",
       "      <td>43.311354</td>\n",
       "      <td>0.009614</td>\n",
       "      <td>rbf</td>\n",
       "    </tr>\n",
       "    <tr>\n",
       "      <th>43</th>\n",
       "      <td>0.835903</td>\n",
       "      <td>0.012548</td>\n",
       "      <td>6.880635</td>\n",
       "      <td>0.001000</td>\n",
       "      <td>rbf</td>\n",
       "    </tr>\n",
       "    <tr>\n",
       "      <th>44</th>\n",
       "      <td>0.851091</td>\n",
       "      <td>0.039235</td>\n",
       "      <td>37.592512</td>\n",
       "      <td>0.010330</td>\n",
       "      <td>rbf</td>\n",
       "    </tr>\n",
       "    <tr>\n",
       "      <th>45</th>\n",
       "      <td>0.658503</td>\n",
       "      <td>0.022994</td>\n",
       "      <td>100.000000</td>\n",
       "      <td>0.061719</td>\n",
       "      <td>poly</td>\n",
       "    </tr>\n",
       "    <tr>\n",
       "      <th>46</th>\n",
       "      <td>0.849117</td>\n",
       "      <td>0.037243</td>\n",
       "      <td>36.797031</td>\n",
       "      <td>0.009940</td>\n",
       "      <td>rbf</td>\n",
       "    </tr>\n",
       "    <tr>\n",
       "      <th>47</th>\n",
       "      <td>0.819942</td>\n",
       "      <td>0.035497</td>\n",
       "      <td>100.000000</td>\n",
       "      <td>0.006093</td>\n",
       "      <td>poly</td>\n",
       "    </tr>\n",
       "    <tr>\n",
       "      <th>48</th>\n",
       "      <td>0.838745</td>\n",
       "      <td>0.016938</td>\n",
       "      <td>56.712870</td>\n",
       "      <td>0.001000</td>\n",
       "      <td>rbf</td>\n",
       "    </tr>\n",
       "    <tr>\n",
       "      <th>49</th>\n",
       "      <td>0.851102</td>\n",
       "      <td>0.040155</td>\n",
       "      <td>29.972449</td>\n",
       "      <td>0.011501</td>\n",
       "      <td>rbf</td>\n",
       "    </tr>\n",
       "  </tbody>\n",
       "</table>"
      ],
      "text/plain": [
       "<IPython.core.display.HTML object>"
      ]
     },
     "metadata": {},
     "output_type": "display_data"
    }
   ],
   "source": [
    "param_grid = {\n",
    "    'support_vector_machine__C': Real(0.1, 100, prior='log-uniform'), \n",
    "    'support_vector_machine__gamma': Real(0.001, 1, prior='log-uniform'),\n",
    "    'support_vector_machine__kernel': Categorical(['rbf', 'poly', 'sigmoid'])\n",
    "}\n",
    "\n",
    "svm_clf = train_model(model=SVC(),\n",
    "                     model_name='support_vector_machine',\n",
    "                     param_grid=param_grid,\n",
    "                     cv_type=BayesSearchCV)"
   ]
  },
  {
   "cell_type": "markdown",
   "metadata": {},
   "source": [
    "The best cross-validated average f1 is 0.85 after hyperparameter tuning."
   ]
  },
  {
   "cell_type": "code",
   "execution_count": 67,
   "metadata": {},
   "outputs": [
    {
     "data": {
      "text/html": [
       "<style>#sk-container-id-12 {color: black;background-color: white;}#sk-container-id-12 pre{padding: 0;}#sk-container-id-12 div.sk-toggleable {background-color: white;}#sk-container-id-12 label.sk-toggleable__label {cursor: pointer;display: block;width: 100%;margin-bottom: 0;padding: 0.3em;box-sizing: border-box;text-align: center;}#sk-container-id-12 label.sk-toggleable__label-arrow:before {content: \"▸\";float: left;margin-right: 0.25em;color: #696969;}#sk-container-id-12 label.sk-toggleable__label-arrow:hover:before {color: black;}#sk-container-id-12 div.sk-estimator:hover label.sk-toggleable__label-arrow:before {color: black;}#sk-container-id-12 div.sk-toggleable__content {max-height: 0;max-width: 0;overflow: hidden;text-align: left;background-color: #f0f8ff;}#sk-container-id-12 div.sk-toggleable__content pre {margin: 0.2em;color: black;border-radius: 0.25em;background-color: #f0f8ff;}#sk-container-id-12 input.sk-toggleable__control:checked~div.sk-toggleable__content {max-height: 200px;max-width: 100%;overflow: auto;}#sk-container-id-12 input.sk-toggleable__control:checked~label.sk-toggleable__label-arrow:before {content: \"▾\";}#sk-container-id-12 div.sk-estimator input.sk-toggleable__control:checked~label.sk-toggleable__label {background-color: #d4ebff;}#sk-container-id-12 div.sk-label input.sk-toggleable__control:checked~label.sk-toggleable__label {background-color: #d4ebff;}#sk-container-id-12 input.sk-hidden--visually {border: 0;clip: rect(1px 1px 1px 1px);clip: rect(1px, 1px, 1px, 1px);height: 1px;margin: -1px;overflow: hidden;padding: 0;position: absolute;width: 1px;}#sk-container-id-12 div.sk-estimator {font-family: monospace;background-color: #f0f8ff;border: 1px dotted black;border-radius: 0.25em;box-sizing: border-box;margin-bottom: 0.5em;}#sk-container-id-12 div.sk-estimator:hover {background-color: #d4ebff;}#sk-container-id-12 div.sk-parallel-item::after {content: \"\";width: 100%;border-bottom: 1px solid gray;flex-grow: 1;}#sk-container-id-12 div.sk-label:hover label.sk-toggleable__label {background-color: #d4ebff;}#sk-container-id-12 div.sk-serial::before {content: \"\";position: absolute;border-left: 1px solid gray;box-sizing: border-box;top: 0;bottom: 0;left: 50%;z-index: 0;}#sk-container-id-12 div.sk-serial {display: flex;flex-direction: column;align-items: center;background-color: white;padding-right: 0.2em;padding-left: 0.2em;position: relative;}#sk-container-id-12 div.sk-item {position: relative;z-index: 1;}#sk-container-id-12 div.sk-parallel {display: flex;align-items: stretch;justify-content: center;background-color: white;position: relative;}#sk-container-id-12 div.sk-item::before, #sk-container-id-12 div.sk-parallel-item::before {content: \"\";position: absolute;border-left: 1px solid gray;box-sizing: border-box;top: 0;bottom: 0;left: 50%;z-index: -1;}#sk-container-id-12 div.sk-parallel-item {display: flex;flex-direction: column;z-index: 1;position: relative;background-color: white;}#sk-container-id-12 div.sk-parallel-item:first-child::after {align-self: flex-end;width: 50%;}#sk-container-id-12 div.sk-parallel-item:last-child::after {align-self: flex-start;width: 50%;}#sk-container-id-12 div.sk-parallel-item:only-child::after {width: 0;}#sk-container-id-12 div.sk-dashed-wrapped {border: 1px dashed gray;margin: 0 0.4em 0.5em 0.4em;box-sizing: border-box;padding-bottom: 0.4em;background-color: white;}#sk-container-id-12 div.sk-label label {font-family: monospace;font-weight: bold;display: inline-block;line-height: 1.2em;}#sk-container-id-12 div.sk-label-container {text-align: center;}#sk-container-id-12 div.sk-container {/* jupyter's `normalize.less` sets `[hidden] { display: none; }` but bootstrap.min.css set `[hidden] { display: none !important; }` so we also need the `!important` here to be able to override the default hidden behavior on the sphinx rendered scikit-learn.org. See: https://github.com/scikit-learn/scikit-learn/issues/21755 */display: inline-block !important;position: relative;}#sk-container-id-12 div.sk-text-repr-fallback {display: none;}</style><div id=\"sk-container-id-12\" class=\"sk-top-container\"><div class=\"sk-text-repr-fallback\"><pre>Pipeline(steps=[(&#x27;preprocessor&#x27;,\n",
       "                 ColumnTransformer(remainder=&#x27;passthrough&#x27;,\n",
       "                                   transformers=[(&#x27;scaler&#x27;, StandardScaler(),\n",
       "                                                  [&#x27;amount&#x27;])])),\n",
       "                (&#x27;support_vector_machine&#x27;,\n",
       "                 SVC(C=43.31135366722287, gamma=0.009613507659233704,\n",
       "                     probability=True))])</pre><b>In a Jupyter environment, please rerun this cell to show the HTML representation or trust the notebook. <br />On GitHub, the HTML representation is unable to render, please try loading this page with nbviewer.org.</b></div><div class=\"sk-container\" hidden><div class=\"sk-item sk-dashed-wrapped\"><div class=\"sk-label-container\"><div class=\"sk-label sk-toggleable\"><input class=\"sk-toggleable__control sk-hidden--visually\" id=\"sk-estimator-id-72\" type=\"checkbox\" ><label for=\"sk-estimator-id-72\" class=\"sk-toggleable__label sk-toggleable__label-arrow\">Pipeline</label><div class=\"sk-toggleable__content\"><pre>Pipeline(steps=[(&#x27;preprocessor&#x27;,\n",
       "                 ColumnTransformer(remainder=&#x27;passthrough&#x27;,\n",
       "                                   transformers=[(&#x27;scaler&#x27;, StandardScaler(),\n",
       "                                                  [&#x27;amount&#x27;])])),\n",
       "                (&#x27;support_vector_machine&#x27;,\n",
       "                 SVC(C=43.31135366722287, gamma=0.009613507659233704,\n",
       "                     probability=True))])</pre></div></div></div><div class=\"sk-serial\"><div class=\"sk-item sk-dashed-wrapped\"><div class=\"sk-label-container\"><div class=\"sk-label sk-toggleable\"><input class=\"sk-toggleable__control sk-hidden--visually\" id=\"sk-estimator-id-73\" type=\"checkbox\" ><label for=\"sk-estimator-id-73\" class=\"sk-toggleable__label sk-toggleable__label-arrow\">preprocessor: ColumnTransformer</label><div class=\"sk-toggleable__content\"><pre>ColumnTransformer(remainder=&#x27;passthrough&#x27;,\n",
       "                  transformers=[(&#x27;scaler&#x27;, StandardScaler(), [&#x27;amount&#x27;])])</pre></div></div></div><div class=\"sk-parallel\"><div class=\"sk-parallel-item\"><div class=\"sk-item\"><div class=\"sk-label-container\"><div class=\"sk-label sk-toggleable\"><input class=\"sk-toggleable__control sk-hidden--visually\" id=\"sk-estimator-id-74\" type=\"checkbox\" ><label for=\"sk-estimator-id-74\" class=\"sk-toggleable__label sk-toggleable__label-arrow\">scaler</label><div class=\"sk-toggleable__content\"><pre>[&#x27;amount&#x27;]</pre></div></div></div><div class=\"sk-serial\"><div class=\"sk-item\"><div class=\"sk-estimator sk-toggleable\"><input class=\"sk-toggleable__control sk-hidden--visually\" id=\"sk-estimator-id-75\" type=\"checkbox\" ><label for=\"sk-estimator-id-75\" class=\"sk-toggleable__label sk-toggleable__label-arrow\">StandardScaler</label><div class=\"sk-toggleable__content\"><pre>StandardScaler()</pre></div></div></div></div></div></div><div class=\"sk-parallel-item\"><div class=\"sk-item\"><div class=\"sk-label-container\"><div class=\"sk-label sk-toggleable\"><input class=\"sk-toggleable__control sk-hidden--visually\" id=\"sk-estimator-id-76\" type=\"checkbox\" ><label for=\"sk-estimator-id-76\" class=\"sk-toggleable__label sk-toggleable__label-arrow\">remainder</label><div class=\"sk-toggleable__content\"><pre>[&#x27;v1&#x27;, &#x27;v2&#x27;, &#x27;v3&#x27;, &#x27;v4&#x27;, &#x27;v5&#x27;, &#x27;v6&#x27;, &#x27;v7&#x27;, &#x27;v8&#x27;, &#x27;v9&#x27;, &#x27;v10&#x27;, &#x27;v11&#x27;, &#x27;v12&#x27;, &#x27;v13&#x27;, &#x27;v14&#x27;, &#x27;v15&#x27;, &#x27;v16&#x27;, &#x27;v17&#x27;, &#x27;v18&#x27;, &#x27;v19&#x27;, &#x27;v20&#x27;, &#x27;v21&#x27;, &#x27;v22&#x27;, &#x27;v23&#x27;, &#x27;v24&#x27;, &#x27;v25&#x27;, &#x27;v26&#x27;, &#x27;v27&#x27;, &#x27;v28&#x27;]</pre></div></div></div><div class=\"sk-serial\"><div class=\"sk-item\"><div class=\"sk-estimator sk-toggleable\"><input class=\"sk-toggleable__control sk-hidden--visually\" id=\"sk-estimator-id-77\" type=\"checkbox\" ><label for=\"sk-estimator-id-77\" class=\"sk-toggleable__label sk-toggleable__label-arrow\">passthrough</label><div class=\"sk-toggleable__content\"><pre>passthrough</pre></div></div></div></div></div></div></div></div><div class=\"sk-item\"><div class=\"sk-estimator sk-toggleable\"><input class=\"sk-toggleable__control sk-hidden--visually\" id=\"sk-estimator-id-78\" type=\"checkbox\" ><label for=\"sk-estimator-id-78\" class=\"sk-toggleable__label sk-toggleable__label-arrow\">SVC</label><div class=\"sk-toggleable__content\"><pre>SVC(C=43.31135366722287, gamma=0.009613507659233704, probability=True)</pre></div></div></div></div></div></div></div>"
      ],
      "text/plain": [
       "Pipeline(steps=[('preprocessor',\n",
       "                 ColumnTransformer(remainder='passthrough',\n",
       "                                   transformers=[('scaler', StandardScaler(),\n",
       "                                                  ['amount'])])),\n",
       "                ('support_vector_machine',\n",
       "                 SVC(C=43.31135366722287, gamma=0.009613507659233704,\n",
       "                     probability=True))])"
      ]
     },
     "execution_count": 67,
     "metadata": {},
     "output_type": "execute_result"
    }
   ],
   "source": [
    "# Set param to predict probability to be able to adjust threshold\n",
    "svm_clf_prob = svm_clf.set_params(support_vector_machine__probability=True)\n",
    "svm_clf_prob.fit(X_train, y_train)"
   ]
  },
  {
   "cell_type": "code",
   "execution_count": 68,
   "metadata": {},
   "outputs": [
    {
     "name": "stdout",
     "output_type": "stream",
     "text": [
      "Best threshold to maximize f1 is  0.1915\n",
      "              precision    recall  f1-score   support\n",
      "\n",
      "           0       1.00      1.00      1.00     56864\n",
      "           1       0.93      0.83      0.88        98\n",
      "\n",
      "    accuracy                           1.00     56962\n",
      "   macro avg       0.97      0.91      0.94     56962\n",
      "weighted avg       1.00      1.00      1.00     56962\n",
      "\n"
     ]
    },
    {
     "data": {
      "image/png": "[encoded data removed]",
      "text/plain": [
       "<Figure size 432x288 with 2 Axes>"
      ]
     },
     "metadata": {
      "needs_background": "light"
     },
     "output_type": "display_data"
    },
    {
     "data": {
      "image/png": "[encoded data removed]",
      "text/plain": [
       "<Figure size 432x288 with 1 Axes>"
      ]
     },
     "metadata": {
      "needs_background": "light"
     },
     "output_type": "display_data"
    }
   ],
   "source": [
    "evaluate_model(svm_clf_prob)"
   ]
  },
  {
   "cell_type": "markdown",
   "metadata": {},
   "source": [
    "The optimal f1 with the test set after adjusting the threshold is 0.88 with precision 0.93 and recall 0.83"
   ]
  },
  {
   "cell_type": "code",
   "execution_count": 69,
   "metadata": {},
   "outputs": [],
   "source": [
    "# Save model\n",
    "f_name = 'models\\svm.pkl'\n",
    "pickle.dump(svm_clf_prob, open(f_name, 'wb'))"
   ]
  },
  {
   "cell_type": "markdown",
   "metadata": {},
   "source": [
    "### Randomforest Classifier"
   ]
  },
  {
   "cell_type": "markdown",
   "metadata": {},
   "source": [
    "Next let's try a tree based ensemble model, randomforest classifier. Here I will try different class_weight parameter of the models for cost sensitive learning. "
   ]
  },
  {
   "cell_type": "code",
   "execution_count": 101,
   "metadata": {},
   "outputs": [
    {
     "name": "stdout",
     "output_type": "stream",
     "text": [
      "Best f1: 0.7631502407742081 with params OrderedDict([('randomforest__class_weight', None), ('randomforest__max_depth', 6), ('randomforest__max_features', 11), ('randomforest__min_samples_split', 0.48072417124579875), ('randomforest__n_estimators', 176)])\n",
      "Top 5 average f1 score:\n"
     ]
    },
    {
     "data": {
      "text/html": [
       "<table border=\"1\" class=\"dataframe\">\n",
       "  <thead>\n",
       "    <tr style=\"text-align: right;\">\n",
       "      <th></th>\n",
       "      <th>mean_f1</th>\n",
       "      <th>stdev</th>\n",
       "      <th>randomforest__class_weight</th>\n",
       "      <th>randomforest__max_depth</th>\n",
       "      <th>randomforest__max_features</th>\n",
       "      <th>randomforest__min_samples_split</th>\n",
       "      <th>randomforest__n_estimators</th>\n",
       "    </tr>\n",
       "  </thead>\n",
       "  <tbody>\n",
       "    <tr>\n",
       "      <th>9</th>\n",
       "      <td>0.763150</td>\n",
       "      <td>0.027073</td>\n",
       "      <td>None</td>\n",
       "      <td>6</td>\n",
       "      <td>11</td>\n",
       "      <td>0.480724</td>\n",
       "      <td>176</td>\n",
       "    </tr>\n",
       "    <tr>\n",
       "      <th>12</th>\n",
       "      <td>0.761646</td>\n",
       "      <td>0.024458</td>\n",
       "      <td>None</td>\n",
       "      <td>7</td>\n",
       "      <td>10</td>\n",
       "      <td>0.395977</td>\n",
       "      <td>182</td>\n",
       "    </tr>\n",
       "    <tr>\n",
       "      <th>14</th>\n",
       "      <td>0.761313</td>\n",
       "      <td>0.022248</td>\n",
       "      <td>None</td>\n",
       "      <td>20</td>\n",
       "      <td>22</td>\n",
       "      <td>0.061160</td>\n",
       "      <td>132</td>\n",
       "    </tr>\n",
       "    <tr>\n",
       "      <th>15</th>\n",
       "      <td>0.760313</td>\n",
       "      <td>0.023879</td>\n",
       "      <td>None</td>\n",
       "      <td>10</td>\n",
       "      <td>23</td>\n",
       "      <td>0.013711</td>\n",
       "      <td>121</td>\n",
       "    </tr>\n",
       "    <tr>\n",
       "      <th>1</th>\n",
       "      <td>0.760294</td>\n",
       "      <td>0.021266</td>\n",
       "      <td>None</td>\n",
       "      <td>11</td>\n",
       "      <td>21</td>\n",
       "      <td>0.014844</td>\n",
       "      <td>126</td>\n",
       "    </tr>\n",
       "  </tbody>\n",
       "</table>"
      ],
      "text/plain": [
       "<IPython.core.display.HTML object>"
      ]
     },
     "metadata": {},
     "output_type": "display_data"
    }
   ],
   "source": [
    "param_grid = {\n",
    "    'randomforest__class_weight': Categorical([None, 'balanced', 'balanced_subsample']),    # Different values to perform cost-sensitive learning e.g. it will cost more fo errors of minority class\n",
    "    'randomforest__max_depth':Integer(3, 20),\n",
    "    'randomforest__min_samples_split': Real(0.01, 1, prior='log-uniform'),\n",
    "    'randomforest__max_features': Integer(10, X_train.shape[1]),\n",
    "    \"randomforest__n_estimators\":Integer(100, 200)\n",
    "    }\n",
    "\n",
    "rf_clf = train_model(RandomForestClassifier(random_state=42),\n",
    "                     'randomforest',\n",
    "                     param_grid=[(param_grid, 20)],\n",
    "                     cv_type=BayesSearchCV)"
   ]
  },
  {
   "cell_type": "markdown",
   "metadata": {},
   "source": [
    "The best cross-validated average f1 is 0.76 after hyperparameter tuning. Interestingly, the best class_weight parameter is None. Meaning that"
   ]
  },
  {
   "cell_type": "code",
   "execution_count": 102,
   "metadata": {},
   "outputs": [
    {
     "name": "stdout",
     "output_type": "stream",
     "text": [
      "Best threshold to maximize f1 is  0.6352\n",
      "              precision    recall  f1-score   support\n",
      "\n",
      "           0       1.00      1.00      1.00     56864\n",
      "           1       0.80      0.71      0.75        98\n",
      "\n",
      "    accuracy                           1.00     56962\n",
      "   macro avg       0.90      0.86      0.88     56962\n",
      "weighted avg       1.00      1.00      1.00     56962\n",
      "\n"
     ]
    },
    {
     "data": {
      "image/png": "[encoded data removed]",
      "text/plain": [
       "<Figure size 432x288 with 2 Axes>"
      ]
     },
     "metadata": {
      "needs_background": "light"
     },
     "output_type": "display_data"
    },
    {
     "data": {
      "image/png": "[encoded data removed]",
      "text/plain": [
       "<Figure size 432x288 with 1 Axes>"
      ]
     },
     "metadata": {
      "needs_background": "light"
     },
     "output_type": "display_data"
    }
   ],
   "source": [
    "evaluate_model(rf_clf)"
   ]
  },
  {
   "cell_type": "markdown",
   "metadata": {},
   "source": [
    "The optimal f1 with the test set after adjusting the threshold is 0.75 with precision 0.80 and recall 0.71"
   ]
  },
  {
   "cell_type": "code",
   "execution_count": 109,
   "metadata": {},
   "outputs": [],
   "source": [
    "# Save model\n",
    "f_name = 'models/rf.pkl'\n",
    "pickle.dump(rf_clf, open(f_name, 'wb'))"
   ]
  },
  {
   "cell_type": "markdown",
   "metadata": {},
   "source": [
    "#### LightGBM"
   ]
  },
  {
   "cell_type": "markdown",
   "metadata": {},
   "source": [
    "Another tree-based ensemble model - LightGBM\n",
    "\n",
    "Here I will split the training set into 2 part as training and validation as I want to use the validation part to perform early stopping."
   ]
  },
  {
   "cell_type": "code",
   "execution_count": 6,
   "metadata": {},
   "outputs": [],
   "source": [
    "# Split train set into train and validation sets\n",
    "X_train_2, X_val, y_train_2, y_val = train_test_split(X_train, y_train, test_size=0.20, random_state=42, stratify=y_train)"
   ]
  },
  {
   "cell_type": "code",
   "execution_count": 111,
   "metadata": {},
   "outputs": [
    {
     "name": "stdout",
     "output_type": "stream",
     "text": [
      "Best f1: 0.8624744303124722 with params OrderedDict([('lgbm__colsample_bytree', 0.8357795297327033), ('lgbm__learning_rate', 0.008107304659240111), ('lgbm__max_depth', 4), ('lgbm__min_child_samples', 5), ('lgbm__n_estimators', 10000), ('lgbm__num_leaves', 52), ('lgbm__reg_alpha', 0.0), ('lgbm__reg_lambda', 67.41043923282376), ('lgbm__subsample', 0.8178384589968457)])\n",
      "Top 5 average f1 score:\n"
     ]
    },
    {
     "data": {
      "text/html": [
       "<table border=\"1\" class=\"dataframe\">\n",
       "  <thead>\n",
       "    <tr style=\"text-align: right;\">\n",
       "      <th></th>\n",
       "      <th>mean_f1</th>\n",
       "      <th>stdev</th>\n",
       "      <th>lgbm__colsample_bytree</th>\n",
       "      <th>lgbm__learning_rate</th>\n",
       "      <th>lgbm__max_depth</th>\n",
       "      <th>lgbm__min_child_samples</th>\n",
       "      <th>lgbm__n_estimators</th>\n",
       "      <th>lgbm__num_leaves</th>\n",
       "      <th>lgbm__reg_alpha</th>\n",
       "      <th>lgbm__reg_lambda</th>\n",
       "      <th>lgbm__subsample</th>\n",
       "    </tr>\n",
       "  </thead>\n",
       "  <tbody>\n",
       "    <tr>\n",
       "      <th>22</th>\n",
       "      <td>0.862474</td>\n",
       "      <td>0.034718</td>\n",
       "      <td>0.835780</td>\n",
       "      <td>0.008107</td>\n",
       "      <td>4</td>\n",
       "      <td>5</td>\n",
       "      <td>10000</td>\n",
       "      <td>52</td>\n",
       "      <td>0.00000</td>\n",
       "      <td>67.410439</td>\n",
       "      <td>0.817838</td>\n",
       "    </tr>\n",
       "    <tr>\n",
       "      <th>21</th>\n",
       "      <td>0.858929</td>\n",
       "      <td>0.027751</td>\n",
       "      <td>0.832753</td>\n",
       "      <td>0.139287</td>\n",
       "      <td>9</td>\n",
       "      <td>300</td>\n",
       "      <td>1544</td>\n",
       "      <td>256</td>\n",
       "      <td>0.00000</td>\n",
       "      <td>100.000000</td>\n",
       "      <td>0.510118</td>\n",
       "    </tr>\n",
       "    <tr>\n",
       "      <th>19</th>\n",
       "      <td>0.857568</td>\n",
       "      <td>0.025892</td>\n",
       "      <td>0.632295</td>\n",
       "      <td>0.167076</td>\n",
       "      <td>5</td>\n",
       "      <td>21</td>\n",
       "      <td>2146</td>\n",
       "      <td>246</td>\n",
       "      <td>0.00000</td>\n",
       "      <td>75.328048</td>\n",
       "      <td>0.652003</td>\n",
       "    </tr>\n",
       "    <tr>\n",
       "      <th>25</th>\n",
       "      <td>0.857475</td>\n",
       "      <td>0.029793</td>\n",
       "      <td>0.770509</td>\n",
       "      <td>0.010097</td>\n",
       "      <td>5</td>\n",
       "      <td>5</td>\n",
       "      <td>10000</td>\n",
       "      <td>54</td>\n",
       "      <td>0.00000</td>\n",
       "      <td>59.269495</td>\n",
       "      <td>0.723214</td>\n",
       "    </tr>\n",
       "    <tr>\n",
       "      <th>16</th>\n",
       "      <td>0.856133</td>\n",
       "      <td>0.031214</td>\n",
       "      <td>0.605473</td>\n",
       "      <td>0.110785</td>\n",
       "      <td>4</td>\n",
       "      <td>22</td>\n",
       "      <td>3280</td>\n",
       "      <td>256</td>\n",
       "      <td>1.71457</td>\n",
       "      <td>84.422706</td>\n",
       "      <td>0.649062</td>\n",
       "    </tr>\n",
       "  </tbody>\n",
       "</table>"
      ],
      "text/plain": [
       "<IPython.core.display.HTML object>"
      ]
     },
     "metadata": {},
     "output_type": "display_data"
    }
   ],
   "source": [
    "param_space =  {\n",
    "    'lgbm__learning_rate': Real(0.001, 10, prior='log-uniform'),\n",
    "    'lgbm__num_leaves': Integer(8, 256),\n",
    "    'lgbm__max_depth': Integer(3, 16),\n",
    "    'lgbm__min_child_samples': Integer(5, 300, prior='log-uniform'),\n",
    "    'lgbm__n_estimators': Integer(100, 10000, prior='log-uniform'),\n",
    "    'lgbm__subsample': Real(0.5, 1),\n",
    "    'lgbm__colsample_bytree': Real(0.5, 1),\n",
    "    'lgbm__reg_alpha': Real(0, 100),\n",
    "    'lgbm__reg_lambda': Real(0, 100)\n",
    "}\n",
    "\n",
    "fit_params = {\n",
    "    'lgbm__eval_set':[(X_val, y_val)],\n",
    "    'lgbm__call_backs':[lgb.early_stopping(25)]\n",
    "}\n",
    "\n",
    "lgbm_clf = train_model(\n",
    "    lgb.LGBMClassifier(random_state=42),\n",
    "    'lgbm',\n",
    "    param_grid=[(param_space, 30)],\n",
    "    X_train=X_train_2,\n",
    "    y_train=y_train_2,\n",
    "    cv_type=BayesSearchCV,\n",
    "    fit_params=fit_params\n",
    ")"
   ]
  },
  {
   "cell_type": "markdown",
   "metadata": {},
   "source": [
    "The best cross-validated average f1 is 0.86 after hyperparameter tuning."
   ]
  },
  {
   "cell_type": "code",
   "execution_count": 112,
   "metadata": {},
   "outputs": [
    {
     "name": "stdout",
     "output_type": "stream",
     "text": [
      "Best threshold to maximize f1 is  0.4855\n",
      "              precision    recall  f1-score   support\n",
      "\n",
      "           0       1.00      1.00      1.00     56864\n",
      "           1       0.94      0.79      0.86        98\n",
      "\n",
      "    accuracy                           1.00     56962\n",
      "   macro avg       0.97      0.89      0.93     56962\n",
      "weighted avg       1.00      1.00      1.00     56962\n",
      "\n"
     ]
    },
    {
     "data": {
      "image/png": "[encoded data removed]",
      "text/plain": [
       "<Figure size 432x288 with 2 Axes>"
      ]
     },
     "metadata": {
      "needs_background": "light"
     },
     "output_type": "display_data"
    },
    {
     "data": {
      "image/png": "[encoded data removed]",
      "text/plain": [
       "<Figure size 432x288 with 1 Axes>"
      ]
     },
     "metadata": {
      "needs_background": "light"
     },
     "output_type": "display_data"
    }
   ],
   "source": [
    "evaluate_model(lgbm_clf)"
   ]
  },
  {
   "cell_type": "markdown",
   "metadata": {},
   "source": [
    "The optimal f1 with the test set after adjusting the threshold is 0.86 with precision 0.94 and recall 0.79"
   ]
  },
  {
   "cell_type": "code",
   "execution_count": 113,
   "metadata": {},
   "outputs": [],
   "source": [
    "# Save model\n",
    "f_name = 'models/lgbm.pkl'\n",
    "pickle.dump(lgbm_clf, open(f_name, 'wb'))"
   ]
  },
  {
   "cell_type": "markdown",
   "metadata": {},
   "source": [
    "#### Neaural Network"
   ]
  },
  {
   "cell_type": "markdown",
   "metadata": {},
   "source": [
    "Here I will also try a feedforward neaural network as well, but without hyper parameter tuning."
   ]
  },
  {
   "cell_type": "code",
   "execution_count": 8,
   "metadata": {},
   "outputs": [
    {
     "name": "stderr",
     "output_type": "stream",
     "text": [
      "C:\\Users\\Naphat\\AppData\\Local\\Temp\\ipykernel_27040\\1456909687.py:37: DeprecationWarning: KerasClassifier is deprecated, use Sci-Keras (https://github.com/adriangb/scikeras) instead. See https://www.adriangb.com/scikeras/stable/migration.html for help migrating.\n",
      "  model = KerasClassifier(build_fn=create_model, epochs=8, batch_size=64, verbose=0)\n",
      "[Parallel(n_jobs=-1)]: Using backend LokyBackend with 8 concurrent workers.\n",
      "[Parallel(n_jobs=-1)]: Done   2 out of   5 | elapsed: 344.5min remaining: 516.8min\n",
      "[Parallel(n_jobs=-1)]: Done   5 out of   5 | elapsed: 354.2min finished\n"
     ]
    }
   ],
   "source": [
    "def create_model():\n",
    "    # Define the input shape\n",
    "    input_shape = (X_train.shape[1],)\n",
    "\n",
    "    # Create the input layer\n",
    "    inputs = tf.keras.Input(shape=input_shape)\n",
    "\n",
    "    # Add the first hidden layer\n",
    "    layer = tf.keras.layers.BatchNormalization()(inputs)\n",
    "    layer = tf.keras.layers.Dense(units=128, activation='relu')(layer)\n",
    "\n",
    "    layer = tf.keras.layers.Dropout(rate=0.2)(layer)\n",
    "    # Add more hidden layers as needed\n",
    "    layer = tf.keras.layers.Dense(units=128, activation='relu')(layer)\n",
    "\n",
    "    # Add the output layer\n",
    "    outputs = tf.keras.layers.Dense(1, activation='sigmoid')(layer)\n",
    "\n",
    "    # Create the model\n",
    "    model = tf.keras.Model(inputs=inputs, outputs=outputs)\n",
    "\n",
    "    loss = tf.keras.losses.BinaryFocalCrossentropy()\n",
    "\n",
    "    model.compile(loss=loss, \n",
    "                optimizer='adam',\n",
    "                metrics=[tf.keras.metrics.Precision(), tf.keras.metrics.Recall()])\n",
    "\n",
    "    return model\n",
    "\n",
    "\n",
    "# Cast to numpy arrays\n",
    "X_train_2_np = X_train_2.values\n",
    "y_train_2_np = y_train_2.values\n",
    "X_val_np = X_val.values\n",
    "y_val_np = y_val.values\n",
    "\n",
    "model = KerasClassifier(build_fn=create_model, epochs=8, batch_size=64, verbose=0)\n",
    "# evaluate using 5-fold cross validation\n",
    "kfold = StratifiedKFold(n_splits=5, shuffle=True, random_state=42)\n",
    "\n",
    "# Define early stopping callback\n",
    "early_stopping = tf.keras.callbacks.EarlyStopping(monitor='val_loss', patience=3)\n",
    "\n",
    "fit_params = {\n",
    "    'validation_data': (X_val_np, y_val_np),\n",
    "    'callbacks': [early_stopping]\n",
    "}\n",
    "\n",
    "# Evaluate using cross validation\n",
    "results = cross_val_score(model, X_train_2_np, y_train_2_np, scoring='f1', \n",
    "                          cv=kfold, fit_params=fit_params, n_jobs=-1, verbose=1)\n"
   ]
  },
  {
   "cell_type": "code",
   "execution_count": 11,
   "metadata": {},
   "outputs": [
    {
     "name": "stdout",
     "output_type": "stream",
     "text": [
      "The cross-validated f1 score is 0.8133757848618529 with std of 0.03697007777717454\n"
     ]
    }
   ],
   "source": [
    "print(f'The cross-validated f1 score is {results.mean()} with std of {results.std()}')"
   ]
  },
  {
   "cell_type": "code",
   "execution_count": 12,
   "metadata": {},
   "outputs": [
    {
     "name": "stdout",
     "output_type": "stream",
     "text": [
      "Epoch 1/8\n",
      "2849/2849 [==============================] - 35s 11ms/step - loss: 0.0020 - precision: 0.6012 - recall: 0.6508 - val_loss: 0.0020 - val_precision: 0.8333 - val_recall: 0.7595\n",
      "Epoch 2/8\n",
      "2849/2849 [==============================] - 33s 12ms/step - loss: 0.0011 - precision: 0.8694 - recall: 0.7397 - val_loss: 0.0013 - val_precision: 0.8429 - val_recall: 0.7468\n",
      "Epoch 3/8\n",
      "2849/2849 [==============================] - 35s 12ms/step - loss: 9.1637e-04 - precision: 0.8736 - recall: 0.7683 - val_loss: 0.0014 - val_precision: 0.8525 - val_recall: 0.6582\n",
      "Epoch 4/8\n",
      "2849/2849 [==============================] - 34s 12ms/step - loss: 8.5193e-04 - precision: 0.8801 - recall: 0.7460 - val_loss: 0.0016 - val_precision: 0.8676 - val_recall: 0.7468\n",
      "Epoch 5/8\n",
      "2849/2849 [==============================] - 34s 12ms/step - loss: 8.2503e-04 - precision: 0.8832 - recall: 0.7683 - val_loss: 0.0014 - val_precision: 0.8594 - val_recall: 0.6962\n"
     ]
    },
    {
     "data": {
      "text/plain": [
       "<keras.callbacks.History at 0x1ef0c46ef40>"
      ]
     },
     "execution_count": 12,
     "metadata": {},
     "output_type": "execute_result"
    }
   ],
   "source": [
    "nn_model = create_model()\n",
    "nn_model.fit(X_train_2_np, y_train_2_np, batch_size=64, epochs=8, validation_data=(X_val_np, y_val_np), callbacks=[early_stopping])"
   ]
  },
  {
   "cell_type": "code",
   "execution_count": 13,
   "metadata": {},
   "outputs": [
    {
     "name": "stdout",
     "output_type": "stream",
     "text": [
      "1781/1781 [==============================] - 5s 3ms/step\n",
      "Best threshold to maximize f1 is  0.4764\n",
      "              precision    recall  f1-score   support\n",
      "\n",
      "           0       1.00      1.00      1.00     56864\n",
      "           1       0.84      0.81      0.82        98\n",
      "\n",
      "    accuracy                           1.00     56962\n",
      "   macro avg       0.92      0.90      0.91     56962\n",
      "weighted avg       1.00      1.00      1.00     56962\n",
      "\n"
     ]
    },
    {
     "data": {
      "image/png": "[encoded data removed]",
      "text/plain": [
       "<Figure size 432x288 with 2 Axes>"
      ]
     },
     "metadata": {
      "needs_background": "light"
     },
     "output_type": "display_data"
    },
    {
     "data": {
      "image/png": "[encoded data removed]",
      "text/plain": [
       "<Figure size 432x288 with 1 Axes>"
      ]
     },
     "metadata": {
      "needs_background": "light"
     },
     "output_type": "display_data"
    }
   ],
   "source": [
    "evaluate_model(nn_model)"
   ]
  },
  {
   "cell_type": "code",
   "execution_count": 14,
   "metadata": {},
   "outputs": [
    {
     "name": "stdout",
     "output_type": "stream",
     "text": [
      "INFO:tensorflow:Assets written to: ram://e896fbc9-e6b2-4b92-9ecd-29e272efb8ae/assets\n"
     ]
    }
   ],
   "source": [
    "# Save model\n",
    "f_name = 'models/nn.pkl'\n",
    "pickle.dump(nn_model, open(f_name, 'wb'))"
   ]
  },
  {
   "cell_type": "markdown",
   "metadata": {},
   "source": [
    "### Resampling Techniques"
   ]
  },
  {
   "cell_type": "markdown",
   "metadata": {},
   "source": [
    "Considered the best CV average F1 score from each model and training time, Lightgbm seems to perform the best and took less amount of time to test and make inference. \n",
    "In the next part I will try to use resampling method to deal with the unbalanced data set to see if the performance can be improved."
   ]
  },
  {
   "cell_type": "code",
   "execution_count": 7,
   "metadata": {},
   "outputs": [
    {
     "name": "stdout",
     "output_type": "stream",
     "text": [
      "Best f1: 0.8527588772937387 with params OrderedDict([('lgbm__colsample_bytree', 0.5), ('lgbm__learning_rate', 0.05788766076189242), ('lgbm__max_depth', 16), ('lgbm__min_child_samples', 300), ('lgbm__n_estimators', 10000), ('lgbm__num_leaves', 72), ('lgbm__reg_alpha', 0.0), ('lgbm__reg_lambda', 0.0), ('lgbm__subsample', 0.94067351128186)])\n"
     ]
    }
   ],
   "source": [
    "param_space =  {\n",
    "    'lgbm__learning_rate': Real(0.001, 10, prior='log-uniform'),\n",
    "    'lgbm__num_leaves': Integer(8, 256),\n",
    "    'lgbm__max_depth': Integer(3, 16),\n",
    "    'lgbm__min_child_samples': Integer(5, 300, prior='log-uniform'),\n",
    "    'lgbm__n_estimators': Integer(100, 10000, prior='log-uniform'),\n",
    "    'lgbm__subsample': Real(0.5, 1),\n",
    "    'lgbm__colsample_bytree': Real(0.5, 1),\n",
    "    'lgbm__reg_alpha': Real(0, 100),\n",
    "    'lgbm__reg_lambda': Real(0, 100)\n",
    "}\n",
    "\n",
    "preprocessor = ColumnTransformer(\n",
    "    transformers=[('scaler', StandardScaler(), ['amount'])],\n",
    "    remainder='passthrough'\n",
    ")\n",
    "\n",
    "pipeline = imblearn.pipeline.Pipeline([\n",
    "    ('over', imblearn.over_sampling.SMOTE()),\n",
    "    ('under', imblearn.under_sampling.RandomUnderSampler()),\n",
    "    ('preprocessor', preprocessor),\n",
    "    ('lgbm', lgb.LGBMClassifier(random_state=42))\n",
    "])\n",
    "\n",
    "fit_params = {\n",
    "    'lgbm__eval_set':[(X_val, y_val)],\n",
    "    'lgbm__call_backs':[lgb.early_stopping(25)]\n",
    "}\n",
    "\n",
    "\n",
    "search = BayesSearchCV(pipeline, \n",
    "                    [(param_space, 30)],\n",
    "                    n_jobs=-1,\n",
    "                    scoring='f1',\n",
    "                    fit_params=fit_params,\n",
    "                    verbose=0)\n",
    "\n",
    "search.fit(X_train_2, y_train_2)\n",
    "\n",
    "print(f'Best f1: {search.best_score_} with params {search.best_params_}')"
   ]
  },
  {
   "cell_type": "markdown",
   "metadata": {},
   "source": [
    "Here the cross validated f1 score is 0.853 which dropped a little from before using resampling techniques. However, if we look at the tuned hyperparameters some of them are at the border values of the parameter space, so might need to expand the parameter space more to be able to fine tune the performance better."
   ]
  },
  {
   "cell_type": "code",
   "execution_count": 9,
   "metadata": {},
   "outputs": [
    {
     "data": {
      "text/html": [
       "<style>#sk-container-id-2 {color: black;background-color: white;}#sk-container-id-2 pre{padding: 0;}#sk-container-id-2 div.sk-toggleable {background-color: white;}#sk-container-id-2 label.sk-toggleable__label {cursor: pointer;display: block;width: 100%;margin-bottom: 0;padding: 0.3em;box-sizing: border-box;text-align: center;}#sk-container-id-2 label.sk-toggleable__label-arrow:before {content: \"▸\";float: left;margin-right: 0.25em;color: #696969;}#sk-container-id-2 label.sk-toggleable__label-arrow:hover:before {color: black;}#sk-container-id-2 div.sk-estimator:hover label.sk-toggleable__label-arrow:before {color: black;}#sk-container-id-2 div.sk-toggleable__content {max-height: 0;max-width: 0;overflow: hidden;text-align: left;background-color: #f0f8ff;}#sk-container-id-2 div.sk-toggleable__content pre {margin: 0.2em;color: black;border-radius: 0.25em;background-color: #f0f8ff;}#sk-container-id-2 input.sk-toggleable__control:checked~div.sk-toggleable__content {max-height: 200px;max-width: 100%;overflow: auto;}#sk-container-id-2 input.sk-toggleable__control:checked~label.sk-toggleable__label-arrow:before {content: \"▾\";}#sk-container-id-2 div.sk-estimator input.sk-toggleable__control:checked~label.sk-toggleable__label {background-color: #d4ebff;}#sk-container-id-2 div.sk-label input.sk-toggleable__control:checked~label.sk-toggleable__label {background-color: #d4ebff;}#sk-container-id-2 input.sk-hidden--visually {border: 0;clip: rect(1px 1px 1px 1px);clip: rect(1px, 1px, 1px, 1px);height: 1px;margin: -1px;overflow: hidden;padding: 0;position: absolute;width: 1px;}#sk-container-id-2 div.sk-estimator {font-family: monospace;background-color: #f0f8ff;border: 1px dotted black;border-radius: 0.25em;box-sizing: border-box;margin-bottom: 0.5em;}#sk-container-id-2 div.sk-estimator:hover {background-color: #d4ebff;}#sk-container-id-2 div.sk-parallel-item::after {content: \"\";width: 100%;border-bottom: 1px solid gray;flex-grow: 1;}#sk-container-id-2 div.sk-label:hover label.sk-toggleable__label {background-color: #d4ebff;}#sk-container-id-2 div.sk-serial::before {content: \"\";position: absolute;border-left: 1px solid gray;box-sizing: border-box;top: 0;bottom: 0;left: 50%;z-index: 0;}#sk-container-id-2 div.sk-serial {display: flex;flex-direction: column;align-items: center;background-color: white;padding-right: 0.2em;padding-left: 0.2em;position: relative;}#sk-container-id-2 div.sk-item {position: relative;z-index: 1;}#sk-container-id-2 div.sk-parallel {display: flex;align-items: stretch;justify-content: center;background-color: white;position: relative;}#sk-container-id-2 div.sk-item::before, #sk-container-id-2 div.sk-parallel-item::before {content: \"\";position: absolute;border-left: 1px solid gray;box-sizing: border-box;top: 0;bottom: 0;left: 50%;z-index: -1;}#sk-container-id-2 div.sk-parallel-item {display: flex;flex-direction: column;z-index: 1;position: relative;background-color: white;}#sk-container-id-2 div.sk-parallel-item:first-child::after {align-self: flex-end;width: 50%;}#sk-container-id-2 div.sk-parallel-item:last-child::after {align-self: flex-start;width: 50%;}#sk-container-id-2 div.sk-parallel-item:only-child::after {width: 0;}#sk-container-id-2 div.sk-dashed-wrapped {border: 1px dashed gray;margin: 0 0.4em 0.5em 0.4em;box-sizing: border-box;padding-bottom: 0.4em;background-color: white;}#sk-container-id-2 div.sk-label label {font-family: monospace;font-weight: bold;display: inline-block;line-height: 1.2em;}#sk-container-id-2 div.sk-label-container {text-align: center;}#sk-container-id-2 div.sk-container {/* jupyter's `normalize.less` sets `[hidden] { display: none; }` but bootstrap.min.css set `[hidden] { display: none !important; }` so we also need the `!important` here to be able to override the default hidden behavior on the sphinx rendered scikit-learn.org. See: https://github.com/scikit-learn/scikit-learn/issues/21755 */display: inline-block !important;position: relative;}#sk-container-id-2 div.sk-text-repr-fallback {display: none;}</style><div id=\"sk-container-id-2\" class=\"sk-top-container\"><div class=\"sk-text-repr-fallback\"><pre>Pipeline(steps=[(&#x27;over&#x27;, SMOTE()), (&#x27;under&#x27;, RandomUnderSampler()),\n",
       "                (&#x27;preprocessor&#x27;,\n",
       "                 ColumnTransformer(remainder=&#x27;passthrough&#x27;,\n",
       "                                   transformers=[(&#x27;scaler&#x27;, StandardScaler(),\n",
       "                                                  [&#x27;amount&#x27;])])),\n",
       "                (&#x27;lgbm&#x27;,\n",
       "                 LGBMClassifier(colsample_bytree=0.5,\n",
       "                                learning_rate=0.05788766076189242, max_depth=16,\n",
       "                                min_child_samples=300, n_estimators=10000,\n",
       "                                num_leaves=72, random_state=42,\n",
       "                                subsample=0.94067351128186))])</pre><b>In a Jupyter environment, please rerun this cell to show the HTML representation or trust the notebook. <br />On GitHub, the HTML representation is unable to render, please try loading this page with nbviewer.org.</b></div><div class=\"sk-container\" hidden><div class=\"sk-item sk-dashed-wrapped\"><div class=\"sk-label-container\"><div class=\"sk-label sk-toggleable\"><input class=\"sk-toggleable__control sk-hidden--visually\" id=\"sk-estimator-id-10\" type=\"checkbox\" ><label for=\"sk-estimator-id-10\" class=\"sk-toggleable__label sk-toggleable__label-arrow\">Pipeline</label><div class=\"sk-toggleable__content\"><pre>Pipeline(steps=[(&#x27;over&#x27;, SMOTE()), (&#x27;under&#x27;, RandomUnderSampler()),\n",
       "                (&#x27;preprocessor&#x27;,\n",
       "                 ColumnTransformer(remainder=&#x27;passthrough&#x27;,\n",
       "                                   transformers=[(&#x27;scaler&#x27;, StandardScaler(),\n",
       "                                                  [&#x27;amount&#x27;])])),\n",
       "                (&#x27;lgbm&#x27;,\n",
       "                 LGBMClassifier(colsample_bytree=0.5,\n",
       "                                learning_rate=0.05788766076189242, max_depth=16,\n",
       "                                min_child_samples=300, n_estimators=10000,\n",
       "                                num_leaves=72, random_state=42,\n",
       "                                subsample=0.94067351128186))])</pre></div></div></div><div class=\"sk-serial\"><div class=\"sk-item\"><div class=\"sk-estimator sk-toggleable\"><input class=\"sk-toggleable__control sk-hidden--visually\" id=\"sk-estimator-id-11\" type=\"checkbox\" ><label for=\"sk-estimator-id-11\" class=\"sk-toggleable__label sk-toggleable__label-arrow\">SMOTE</label><div class=\"sk-toggleable__content\"><pre>SMOTE()</pre></div></div></div><div class=\"sk-item\"><div class=\"sk-estimator sk-toggleable\"><input class=\"sk-toggleable__control sk-hidden--visually\" id=\"sk-estimator-id-12\" type=\"checkbox\" ><label for=\"sk-estimator-id-12\" class=\"sk-toggleable__label sk-toggleable__label-arrow\">RandomUnderSampler</label><div class=\"sk-toggleable__content\"><pre>RandomUnderSampler()</pre></div></div></div><div class=\"sk-item sk-dashed-wrapped\"><div class=\"sk-label-container\"><div class=\"sk-label sk-toggleable\"><input class=\"sk-toggleable__control sk-hidden--visually\" id=\"sk-estimator-id-13\" type=\"checkbox\" ><label for=\"sk-estimator-id-13\" class=\"sk-toggleable__label sk-toggleable__label-arrow\">preprocessor: ColumnTransformer</label><div class=\"sk-toggleable__content\"><pre>ColumnTransformer(remainder=&#x27;passthrough&#x27;,\n",
       "                  transformers=[(&#x27;scaler&#x27;, StandardScaler(), [&#x27;amount&#x27;])])</pre></div></div></div><div class=\"sk-parallel\"><div class=\"sk-parallel-item\"><div class=\"sk-item\"><div class=\"sk-label-container\"><div class=\"sk-label sk-toggleable\"><input class=\"sk-toggleable__control sk-hidden--visually\" id=\"sk-estimator-id-14\" type=\"checkbox\" ><label for=\"sk-estimator-id-14\" class=\"sk-toggleable__label sk-toggleable__label-arrow\">scaler</label><div class=\"sk-toggleable__content\"><pre>[&#x27;amount&#x27;]</pre></div></div></div><div class=\"sk-serial\"><div class=\"sk-item\"><div class=\"sk-estimator sk-toggleable\"><input class=\"sk-toggleable__control sk-hidden--visually\" id=\"sk-estimator-id-15\" type=\"checkbox\" ><label for=\"sk-estimator-id-15\" class=\"sk-toggleable__label sk-toggleable__label-arrow\">StandardScaler</label><div class=\"sk-toggleable__content\"><pre>StandardScaler()</pre></div></div></div></div></div></div><div class=\"sk-parallel-item\"><div class=\"sk-item\"><div class=\"sk-label-container\"><div class=\"sk-label sk-toggleable\"><input class=\"sk-toggleable__control sk-hidden--visually\" id=\"sk-estimator-id-16\" type=\"checkbox\" ><label for=\"sk-estimator-id-16\" class=\"sk-toggleable__label sk-toggleable__label-arrow\">remainder</label><div class=\"sk-toggleable__content\"><pre>[&#x27;v1&#x27;, &#x27;v2&#x27;, &#x27;v3&#x27;, &#x27;v4&#x27;, &#x27;v5&#x27;, &#x27;v6&#x27;, &#x27;v7&#x27;, &#x27;v8&#x27;, &#x27;v9&#x27;, &#x27;v10&#x27;, &#x27;v11&#x27;, &#x27;v12&#x27;, &#x27;v13&#x27;, &#x27;v14&#x27;, &#x27;v15&#x27;, &#x27;v16&#x27;, &#x27;v17&#x27;, &#x27;v18&#x27;, &#x27;v19&#x27;, &#x27;v20&#x27;, &#x27;v21&#x27;, &#x27;v22&#x27;, &#x27;v23&#x27;, &#x27;v24&#x27;, &#x27;v25&#x27;, &#x27;v26&#x27;, &#x27;v27&#x27;, &#x27;v28&#x27;]</pre></div></div></div><div class=\"sk-serial\"><div class=\"sk-item\"><div class=\"sk-estimator sk-toggleable\"><input class=\"sk-toggleable__control sk-hidden--visually\" id=\"sk-estimator-id-17\" type=\"checkbox\" ><label for=\"sk-estimator-id-17\" class=\"sk-toggleable__label sk-toggleable__label-arrow\">passthrough</label><div class=\"sk-toggleable__content\"><pre>passthrough</pre></div></div></div></div></div></div></div></div><div class=\"sk-item\"><div class=\"sk-estimator sk-toggleable\"><input class=\"sk-toggleable__control sk-hidden--visually\" id=\"sk-estimator-id-18\" type=\"checkbox\" ><label for=\"sk-estimator-id-18\" class=\"sk-toggleable__label sk-toggleable__label-arrow\">LGBMClassifier</label><div class=\"sk-toggleable__content\"><pre>LGBMClassifier(colsample_bytree=0.5, learning_rate=0.05788766076189242,\n",
       "               max_depth=16, min_child_samples=300, n_estimators=10000,\n",
       "               num_leaves=72, random_state=42, subsample=0.94067351128186)</pre></div></div></div></div></div></div></div>"
      ],
      "text/plain": [
       "Pipeline(steps=[('over', SMOTE()), ('under', RandomUnderSampler()),\n",
       "                ('preprocessor',\n",
       "                 ColumnTransformer(remainder='passthrough',\n",
       "                                   transformers=[('scaler', StandardScaler(),\n",
       "                                                  ['amount'])])),\n",
       "                ('lgbm',\n",
       "                 LGBMClassifier(colsample_bytree=0.5,\n",
       "                                learning_rate=0.05788766076189242, max_depth=16,\n",
       "                                min_child_samples=300, n_estimators=10000,\n",
       "                                num_leaves=72, random_state=42,\n",
       "                                subsample=0.94067351128186))])"
      ]
     },
     "execution_count": 9,
     "metadata": {},
     "output_type": "execute_result"
    }
   ],
   "source": [
    "lgbm_imlearned = search.best_estimator_\n",
    "lgbm_imlearned.fit(X_train, y_train)"
   ]
  },
  {
   "cell_type": "markdown",
   "metadata": {},
   "source": [
    "Let's try evaluate it with the test set."
   ]
  },
  {
   "cell_type": "code",
   "execution_count": 10,
   "metadata": {},
   "outputs": [
    {
     "name": "stdout",
     "output_type": "stream",
     "text": [
      "Best threshold to maximize f1 is  0.9992\n",
      "              precision    recall  f1-score   support\n",
      "\n",
      "           0       1.00      1.00      1.00     56864\n",
      "           1       0.94      0.82      0.87        98\n",
      "\n",
      "    accuracy                           1.00     56962\n",
      "   macro avg       0.97      0.91      0.94     56962\n",
      "weighted avg       1.00      1.00      1.00     56962\n",
      "\n"
     ]
    },
    {
     "data": {
      "image/png": "[encoded data removed]",
      "text/plain": [
       "<Figure size 432x288 with 2 Axes>"
      ]
     },
     "metadata": {
      "needs_background": "light"
     },
     "output_type": "display_data"
    },
    {
     "data": {
      "image/png": "[encoded data removed]",
      "text/plain": [
       "<Figure size 432x288 with 1 Axes>"
      ]
     },
     "metadata": {
      "needs_background": "light"
     },
     "output_type": "display_data"
    }
   ],
   "source": [
    "evaluate_model(lgbm_imlearned)"
   ]
  },
  {
   "cell_type": "markdown",
   "metadata": {},
   "source": [
    "The f1 score here is a little better than the Lightgbm classifier without resampling. However, this might be just pure luck. It's always better to compare performance of 2 model using cross validation instead of using only 1 test set."
   ]
  },
  {
   "cell_type": "code",
   "execution_count": 11,
   "metadata": {},
   "outputs": [],
   "source": [
    "# Save model\n",
    "f_name = 'models/lgbm_imlearned.pkl'\n",
    "pickle.dump(lgbm_imlearned, open(f_name, 'wb'))"
   ]
  },
  {
   "cell_type": "markdown",
   "metadata": {},
   "source": [
    "### Summary\n",
    "We now see the performance of different models on this fraud detection task some of them such as Lightgbm and SVM showed very promising results. Even with the imbalanced nature of the dataset some models also perform great already by just adjusting the threshold (threshold moving), which is a useful step to deal with imbalanced problem. We also tried using over and undersampling to help with that problem a little more. However, over and under sampling also have some parameters to further adjust to improve the model. \n",
    "\n",
    "To choose the best model in the realworld, there are a few key points apart from the performance like precision, recall, or f1.\n",
    "\n",
    "1. Inference time: \n",
    "There might be a requirement for the amount of time used to make inference to be faster than some number. This make senses since it's supposed to be used with real-time transaction data to detect fraud within a matter of seconds. It also depends on the system or hardware the model has to run on.\n",
    "\n",
    "2. Training time: \n",
    "This might not be as important as the inference time since if the distribution of the data (in the real world) does not change we don't need to frequently retrain the model. Still this could be something to look at if retraining is required often.\n",
    "\n",
    "3. Misclassification cost: \n",
    "This is a very, if not the most, important factor to consider, since we want the model to detect fraud to prevent cost of fradulent transaction. Misclassifying fradulent transactions as good transactions (false negative) will cost at least the amount of the transactions plus the hidden cost of customer disatisfaction and reputation decreasing of the company. Misclassifying good transactions and fradulent (false positive) will not incur any cost instantly but again will have the hidden cost of customer disatisfaction. It's usually hard to find actual cost especially for the latter case. In practice, we can come up with some number for each case of misclassification to help choose the model that give the lowest cost. We can also adjust the threshold to get the lowest cost from each model and compare instead of using f1 as we did here."
   ]
  }
 ],
 "metadata": {
  "kernelspec": {
   "display_name": "env_6420_conda",
   "language": "python",
   "name": "python3"
  },
  "language_info": {
   "codemirror_mode": {
    "name": "ipython",
    "version": 3
   },
   "file_extension": ".py",
   "mimetype": "text/x-python",
   "name": "python",
   "nbconvert_exporter": "python",
   "pygments_lexer": "ipython3",
   "version": "3.9.13"
  },
  "orig_nbformat": 4
 },
 "nbformat": 4,
 "nbformat_minor": 2
}
